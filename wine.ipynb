{
 "cells": [
  {
   "cell_type": "code",
   "execution_count": 1,
   "metadata": {},
   "outputs": [],
   "source": [
    "import numpy as np\n",
    "import pandas as pd"
   ]
  },
  {
   "cell_type": "code",
   "execution_count": 2,
   "metadata": {},
   "outputs": [],
   "source": [
    "import matplotlib.pyplot as plt\n",
    "import seaborn as sns"
   ]
  },
  {
   "cell_type": "code",
   "execution_count": 3,
   "metadata": {},
   "outputs": [],
   "source": [
    "%matplotlib inline"
   ]
  },
  {
   "cell_type": "code",
   "execution_count": 4,
   "metadata": {},
   "outputs": [],
   "source": [
    "wine = pd.read_csv('winequality-red.csv')"
   ]
  },
  {
   "cell_type": "code",
   "execution_count": 5,
   "metadata": {},
   "outputs": [
    {
     "data": {
      "text/plain": [
       "(1599, 12)"
      ]
     },
     "execution_count": 5,
     "metadata": {},
     "output_type": "execute_result"
    }
   ],
   "source": [
    "wine.shape"
   ]
  },
  {
   "cell_type": "code",
   "execution_count": 6,
   "metadata": {},
   "outputs": [
    {
     "data": {
      "text/html": [
       "<div>\n",
       "<style scoped>\n",
       "    .dataframe tbody tr th:only-of-type {\n",
       "        vertical-align: middle;\n",
       "    }\n",
       "\n",
       "    .dataframe tbody tr th {\n",
       "        vertical-align: top;\n",
       "    }\n",
       "\n",
       "    .dataframe thead th {\n",
       "        text-align: right;\n",
       "    }\n",
       "</style>\n",
       "<table border=\"1\" class=\"dataframe\">\n",
       "  <thead>\n",
       "    <tr style=\"text-align: right;\">\n",
       "      <th></th>\n",
       "      <th>fixed acidity</th>\n",
       "      <th>volatile acidity</th>\n",
       "      <th>citric acid</th>\n",
       "      <th>residual sugar</th>\n",
       "      <th>chlorides</th>\n",
       "      <th>free sulfur dioxide</th>\n",
       "      <th>total sulfur dioxide</th>\n",
       "      <th>density</th>\n",
       "      <th>pH</th>\n",
       "      <th>sulphates</th>\n",
       "      <th>alcohol</th>\n",
       "      <th>quality</th>\n",
       "    </tr>\n",
       "  </thead>\n",
       "  <tbody>\n",
       "    <tr>\n",
       "      <td>count</td>\n",
       "      <td>1599.000000</td>\n",
       "      <td>1599.000000</td>\n",
       "      <td>1599.000000</td>\n",
       "      <td>1599.000000</td>\n",
       "      <td>1599.000000</td>\n",
       "      <td>1599.000000</td>\n",
       "      <td>1599.000000</td>\n",
       "      <td>1599.000000</td>\n",
       "      <td>1599.000000</td>\n",
       "      <td>1599.000000</td>\n",
       "      <td>1599.000000</td>\n",
       "      <td>1599.000000</td>\n",
       "    </tr>\n",
       "    <tr>\n",
       "      <td>mean</td>\n",
       "      <td>8.319637</td>\n",
       "      <td>0.527821</td>\n",
       "      <td>0.270976</td>\n",
       "      <td>2.538806</td>\n",
       "      <td>0.087467</td>\n",
       "      <td>15.874922</td>\n",
       "      <td>46.467792</td>\n",
       "      <td>0.996747</td>\n",
       "      <td>3.311113</td>\n",
       "      <td>0.658149</td>\n",
       "      <td>10.422983</td>\n",
       "      <td>5.636023</td>\n",
       "    </tr>\n",
       "    <tr>\n",
       "      <td>std</td>\n",
       "      <td>1.741096</td>\n",
       "      <td>0.179060</td>\n",
       "      <td>0.194801</td>\n",
       "      <td>1.409928</td>\n",
       "      <td>0.047065</td>\n",
       "      <td>10.460157</td>\n",
       "      <td>32.895324</td>\n",
       "      <td>0.001887</td>\n",
       "      <td>0.154386</td>\n",
       "      <td>0.169507</td>\n",
       "      <td>1.065668</td>\n",
       "      <td>0.807569</td>\n",
       "    </tr>\n",
       "    <tr>\n",
       "      <td>min</td>\n",
       "      <td>4.600000</td>\n",
       "      <td>0.120000</td>\n",
       "      <td>0.000000</td>\n",
       "      <td>0.900000</td>\n",
       "      <td>0.012000</td>\n",
       "      <td>1.000000</td>\n",
       "      <td>6.000000</td>\n",
       "      <td>0.990070</td>\n",
       "      <td>2.740000</td>\n",
       "      <td>0.330000</td>\n",
       "      <td>8.400000</td>\n",
       "      <td>3.000000</td>\n",
       "    </tr>\n",
       "    <tr>\n",
       "      <td>25%</td>\n",
       "      <td>7.100000</td>\n",
       "      <td>0.390000</td>\n",
       "      <td>0.090000</td>\n",
       "      <td>1.900000</td>\n",
       "      <td>0.070000</td>\n",
       "      <td>7.000000</td>\n",
       "      <td>22.000000</td>\n",
       "      <td>0.995600</td>\n",
       "      <td>3.210000</td>\n",
       "      <td>0.550000</td>\n",
       "      <td>9.500000</td>\n",
       "      <td>5.000000</td>\n",
       "    </tr>\n",
       "    <tr>\n",
       "      <td>50%</td>\n",
       "      <td>7.900000</td>\n",
       "      <td>0.520000</td>\n",
       "      <td>0.260000</td>\n",
       "      <td>2.200000</td>\n",
       "      <td>0.079000</td>\n",
       "      <td>14.000000</td>\n",
       "      <td>38.000000</td>\n",
       "      <td>0.996750</td>\n",
       "      <td>3.310000</td>\n",
       "      <td>0.620000</td>\n",
       "      <td>10.200000</td>\n",
       "      <td>6.000000</td>\n",
       "    </tr>\n",
       "    <tr>\n",
       "      <td>75%</td>\n",
       "      <td>9.200000</td>\n",
       "      <td>0.640000</td>\n",
       "      <td>0.420000</td>\n",
       "      <td>2.600000</td>\n",
       "      <td>0.090000</td>\n",
       "      <td>21.000000</td>\n",
       "      <td>62.000000</td>\n",
       "      <td>0.997835</td>\n",
       "      <td>3.400000</td>\n",
       "      <td>0.730000</td>\n",
       "      <td>11.100000</td>\n",
       "      <td>6.000000</td>\n",
       "    </tr>\n",
       "    <tr>\n",
       "      <td>max</td>\n",
       "      <td>15.900000</td>\n",
       "      <td>1.580000</td>\n",
       "      <td>1.000000</td>\n",
       "      <td>15.500000</td>\n",
       "      <td>0.611000</td>\n",
       "      <td>72.000000</td>\n",
       "      <td>289.000000</td>\n",
       "      <td>1.003690</td>\n",
       "      <td>4.010000</td>\n",
       "      <td>2.000000</td>\n",
       "      <td>14.900000</td>\n",
       "      <td>8.000000</td>\n",
       "    </tr>\n",
       "  </tbody>\n",
       "</table>\n",
       "</div>"
      ],
      "text/plain": [
       "       fixed acidity  volatile acidity  citric acid  residual sugar  \\\n",
       "count    1599.000000       1599.000000  1599.000000     1599.000000   \n",
       "mean        8.319637          0.527821     0.270976        2.538806   \n",
       "std         1.741096          0.179060     0.194801        1.409928   \n",
       "min         4.600000          0.120000     0.000000        0.900000   \n",
       "25%         7.100000          0.390000     0.090000        1.900000   \n",
       "50%         7.900000          0.520000     0.260000        2.200000   \n",
       "75%         9.200000          0.640000     0.420000        2.600000   \n",
       "max        15.900000          1.580000     1.000000       15.500000   \n",
       "\n",
       "         chlorides  free sulfur dioxide  total sulfur dioxide      density  \\\n",
       "count  1599.000000          1599.000000           1599.000000  1599.000000   \n",
       "mean      0.087467            15.874922             46.467792     0.996747   \n",
       "std       0.047065            10.460157             32.895324     0.001887   \n",
       "min       0.012000             1.000000              6.000000     0.990070   \n",
       "25%       0.070000             7.000000             22.000000     0.995600   \n",
       "50%       0.079000            14.000000             38.000000     0.996750   \n",
       "75%       0.090000            21.000000             62.000000     0.997835   \n",
       "max       0.611000            72.000000            289.000000     1.003690   \n",
       "\n",
       "                pH    sulphates      alcohol      quality  \n",
       "count  1599.000000  1599.000000  1599.000000  1599.000000  \n",
       "mean      3.311113     0.658149    10.422983     5.636023  \n",
       "std       0.154386     0.169507     1.065668     0.807569  \n",
       "min       2.740000     0.330000     8.400000     3.000000  \n",
       "25%       3.210000     0.550000     9.500000     5.000000  \n",
       "50%       3.310000     0.620000    10.200000     6.000000  \n",
       "75%       3.400000     0.730000    11.100000     6.000000  \n",
       "max       4.010000     2.000000    14.900000     8.000000  "
      ]
     },
     "execution_count": 6,
     "metadata": {},
     "output_type": "execute_result"
    }
   ],
   "source": [
    "wine.describe()"
   ]
  },
  {
   "cell_type": "code",
   "execution_count": 7,
   "metadata": {},
   "outputs": [
    {
     "name": "stdout",
     "output_type": "stream",
     "text": [
      "<class 'pandas.core.frame.DataFrame'>\n",
      "RangeIndex: 1599 entries, 0 to 1598\n",
      "Data columns (total 12 columns):\n",
      "fixed acidity           1599 non-null float64\n",
      "volatile acidity        1599 non-null float64\n",
      "citric acid             1599 non-null float64\n",
      "residual sugar          1599 non-null float64\n",
      "chlorides               1599 non-null float64\n",
      "free sulfur dioxide     1599 non-null float64\n",
      "total sulfur dioxide    1599 non-null float64\n",
      "density                 1599 non-null float64\n",
      "pH                      1599 non-null float64\n",
      "sulphates               1599 non-null float64\n",
      "alcohol                 1599 non-null float64\n",
      "quality                 1599 non-null int64\n",
      "dtypes: float64(11), int64(1)\n",
      "memory usage: 150.0 KB\n"
     ]
    }
   ],
   "source": [
    "wine.info()"
   ]
  },
  {
   "cell_type": "code",
   "execution_count": 8,
   "metadata": {},
   "outputs": [
    {
     "data": {
      "text/html": [
       "<div>\n",
       "<style scoped>\n",
       "    .dataframe tbody tr th:only-of-type {\n",
       "        vertical-align: middle;\n",
       "    }\n",
       "\n",
       "    .dataframe tbody tr th {\n",
       "        vertical-align: top;\n",
       "    }\n",
       "\n",
       "    .dataframe thead th {\n",
       "        text-align: right;\n",
       "    }\n",
       "</style>\n",
       "<table border=\"1\" class=\"dataframe\">\n",
       "  <thead>\n",
       "    <tr style=\"text-align: right;\">\n",
       "      <th></th>\n",
       "      <th>fixed acidity</th>\n",
       "      <th>volatile acidity</th>\n",
       "      <th>citric acid</th>\n",
       "      <th>residual sugar</th>\n",
       "      <th>chlorides</th>\n",
       "      <th>free sulfur dioxide</th>\n",
       "      <th>total sulfur dioxide</th>\n",
       "      <th>density</th>\n",
       "      <th>pH</th>\n",
       "      <th>sulphates</th>\n",
       "      <th>alcohol</th>\n",
       "      <th>quality</th>\n",
       "    </tr>\n",
       "  </thead>\n",
       "  <tbody>\n",
       "    <tr>\n",
       "      <td>0</td>\n",
       "      <td>7.4</td>\n",
       "      <td>0.70</td>\n",
       "      <td>0.00</td>\n",
       "      <td>1.9</td>\n",
       "      <td>0.076</td>\n",
       "      <td>11.0</td>\n",
       "      <td>34.0</td>\n",
       "      <td>0.9978</td>\n",
       "      <td>3.51</td>\n",
       "      <td>0.56</td>\n",
       "      <td>9.4</td>\n",
       "      <td>5</td>\n",
       "    </tr>\n",
       "    <tr>\n",
       "      <td>1</td>\n",
       "      <td>7.8</td>\n",
       "      <td>0.88</td>\n",
       "      <td>0.00</td>\n",
       "      <td>2.6</td>\n",
       "      <td>0.098</td>\n",
       "      <td>25.0</td>\n",
       "      <td>67.0</td>\n",
       "      <td>0.9968</td>\n",
       "      <td>3.20</td>\n",
       "      <td>0.68</td>\n",
       "      <td>9.8</td>\n",
       "      <td>5</td>\n",
       "    </tr>\n",
       "    <tr>\n",
       "      <td>2</td>\n",
       "      <td>7.8</td>\n",
       "      <td>0.76</td>\n",
       "      <td>0.04</td>\n",
       "      <td>2.3</td>\n",
       "      <td>0.092</td>\n",
       "      <td>15.0</td>\n",
       "      <td>54.0</td>\n",
       "      <td>0.9970</td>\n",
       "      <td>3.26</td>\n",
       "      <td>0.65</td>\n",
       "      <td>9.8</td>\n",
       "      <td>5</td>\n",
       "    </tr>\n",
       "    <tr>\n",
       "      <td>3</td>\n",
       "      <td>11.2</td>\n",
       "      <td>0.28</td>\n",
       "      <td>0.56</td>\n",
       "      <td>1.9</td>\n",
       "      <td>0.075</td>\n",
       "      <td>17.0</td>\n",
       "      <td>60.0</td>\n",
       "      <td>0.9980</td>\n",
       "      <td>3.16</td>\n",
       "      <td>0.58</td>\n",
       "      <td>9.8</td>\n",
       "      <td>6</td>\n",
       "    </tr>\n",
       "    <tr>\n",
       "      <td>4</td>\n",
       "      <td>7.4</td>\n",
       "      <td>0.70</td>\n",
       "      <td>0.00</td>\n",
       "      <td>1.9</td>\n",
       "      <td>0.076</td>\n",
       "      <td>11.0</td>\n",
       "      <td>34.0</td>\n",
       "      <td>0.9978</td>\n",
       "      <td>3.51</td>\n",
       "      <td>0.56</td>\n",
       "      <td>9.4</td>\n",
       "      <td>5</td>\n",
       "    </tr>\n",
       "  </tbody>\n",
       "</table>\n",
       "</div>"
      ],
      "text/plain": [
       "   fixed acidity  volatile acidity  citric acid  residual sugar  chlorides  \\\n",
       "0            7.4              0.70         0.00             1.9      0.076   \n",
       "1            7.8              0.88         0.00             2.6      0.098   \n",
       "2            7.8              0.76         0.04             2.3      0.092   \n",
       "3           11.2              0.28         0.56             1.9      0.075   \n",
       "4            7.4              0.70         0.00             1.9      0.076   \n",
       "\n",
       "   free sulfur dioxide  total sulfur dioxide  density    pH  sulphates  \\\n",
       "0                 11.0                  34.0   0.9978  3.51       0.56   \n",
       "1                 25.0                  67.0   0.9968  3.20       0.68   \n",
       "2                 15.0                  54.0   0.9970  3.26       0.65   \n",
       "3                 17.0                  60.0   0.9980  3.16       0.58   \n",
       "4                 11.0                  34.0   0.9978  3.51       0.56   \n",
       "\n",
       "   alcohol  quality  \n",
       "0      9.4        5  \n",
       "1      9.8        5  \n",
       "2      9.8        5  \n",
       "3      9.8        6  \n",
       "4      9.4        5  "
      ]
     },
     "execution_count": 8,
     "metadata": {},
     "output_type": "execute_result"
    }
   ],
   "source": [
    "wine.head()"
   ]
  },
  {
   "cell_type": "code",
   "execution_count": 9,
   "metadata": {},
   "outputs": [
    {
     "data": {
      "text/plain": [
       "<matplotlib.axes._subplots.AxesSubplot at 0x2283bb05c88>"
      ]
     },
     "execution_count": 9,
     "metadata": {},
     "output_type": "execute_result"
    },
    {
     "data": {
      "image/png": "[encoded data removed]",
      "text/plain": [
       "<Figure size 432x288 with 2 Axes>"
      ]
     },
     "metadata": {
      "needs_background": "light"
     },
     "output_type": "display_data"
    }
   ],
   "source": [
    "sns.heatmap(wine.isnull())\n",
    "\n",
    "#No null values contained in the data"
   ]
  },
  {
   "cell_type": "code",
   "execution_count": 10,
   "metadata": {},
   "outputs": [
    {
     "data": {
      "text/plain": [
       "<matplotlib.axes._subplots.AxesSubplot at 0x2283beddfc8>"
      ]
     },
     "execution_count": 10,
     "metadata": {},
     "output_type": "execute_result"
    },
    {
     "data": {
      "image/png": "[encoded data removed]",
      "text/plain": [
       "<Figure size 576x432 with 2 Axes>"
      ]
     },
     "metadata": {
      "needs_background": "light"
     },
     "output_type": "display_data"
    }
   ],
   "source": [
    "plt.figure(figsize=(8,6))\n",
    "\n",
    "sns.heatmap(wine.corr(), cmap='coolwarm')"
   ]
  },
  {
   "cell_type": "markdown",
   "metadata": {},
   "source": [
    "There is little or no correlation with the data contained about the red wine which includes, the acidity, the pH of the wine, the alchohol level and so on; with the quality of the red wine."
   ]
  },
  {
   "cell_type": "code",
   "execution_count": 120,
   "metadata": {},
   "outputs": [
    {
     "data": {
      "text/plain": [
       "Index(['fixed acidity', 'volatile acidity', 'citric acid', 'residual sugar',\n",
       "       'chlorides', 'free sulfur dioxide', 'total sulfur dioxide', 'density',\n",
       "       'pH', 'sulphates', 'alcohol', 'quality'],\n",
       "      dtype='object')"
      ]
     },
     "execution_count": 120,
     "metadata": {},
     "output_type": "execute_result"
    }
   ],
   "source": [
    "wine.columns"
   ]
  },
  {
   "cell_type": "markdown",
   "metadata": {},
   "source": [
    "EDA\n",
    "--"
   ]
  },
  {
   "cell_type": "code",
   "execution_count": 12,
   "metadata": {},
   "outputs": [
    {
     "data": {
      "text/plain": [
       "<matplotlib.axes._subplots.AxesSubplot at 0x2283bfb3b88>"
      ]
     },
     "execution_count": 12,
     "metadata": {},
     "output_type": "execute_result"
    },
    {
     "data": {
      "image/png": "[encoded data removed]",
      "text/plain": [
       "<Figure size 576x432 with 1 Axes>"
      ]
     },
     "metadata": {
      "needs_background": "light"
     },
     "output_type": "display_data"
    }
   ],
   "source": [
    "#There is no clear relationship between the fixed acidity of a red-wine to the quality\n",
    "\n",
    "plt.figure(figsize=(8,6))\n",
    "sns.barplot(x='quality', y='fixed acidity', data=wine)"
   ]
  },
  {
   "cell_type": "code",
   "execution_count": 13,
   "metadata": {},
   "outputs": [
    {
     "data": {
      "text/plain": [
       "<matplotlib.axes._subplots.AxesSubplot at 0x2283c062688>"
      ]
     },
     "execution_count": 13,
     "metadata": {},
     "output_type": "execute_result"
    },
    {
     "data": {
      "image/png": "[encoded data removed]",
      "text/plain": [
       "<Figure size 576x432 with 1 Axes>"
      ]
     },
     "metadata": {
      "needs_background": "light"
     },
     "output_type": "display_data"
    }
   ],
   "source": [
    "#This also shows no clear correlation between the alchohol level and the quality of the wine.\n",
    "plt.figure(figsize=(8,6))\n",
    "sns.barplot(x='quality', y='alcohol', data=wine)"
   ]
  },
  {
   "cell_type": "code",
   "execution_count": 14,
   "metadata": {},
   "outputs": [
    {
     "data": {
      "text/plain": [
       "<matplotlib.axes._subplots.AxesSubplot at 0x2283c132c88>"
      ]
     },
     "execution_count": 14,
     "metadata": {},
     "output_type": "execute_result"
    },
    {
     "data": {
      "image/png": "[encoded data removed]",
      "text/plain": [
       "<Figure size 576x432 with 1 Axes>"
      ]
     },
     "metadata": {
      "needs_background": "light"
     },
     "output_type": "display_data"
    }
   ],
   "source": [
    "#here, we can see that highly rated wines tend to have less volatile acidity than the low quality ones\n",
    "\n",
    "plt.figure(figsize=(8,6))\n",
    "sns.barplot(x='quality', y='volatile acidity', data=wine)"
   ]
  },
  {
   "cell_type": "code",
   "execution_count": 15,
   "metadata": {},
   "outputs": [
    {
     "data": {
      "text/plain": [
       "<matplotlib.axes._subplots.AxesSubplot at 0x2283c1a7dc8>"
      ]
     },
     "execution_count": 15,
     "metadata": {},
     "output_type": "execute_result"
    },
    {
     "data": {
      "image/png": "[encoded data removed]",
      "text/plain": [
       "<Figure size 576x432 with 1 Axes>"
      ]
     },
     "metadata": {
      "needs_background": "light"
     },
     "output_type": "display_data"
    }
   ],
   "source": [
    "#The high quality wines tend to have more citric acid in them than the low quality ones\n",
    "\n",
    "plt.figure(figsize=(8,6))\n",
    "sns.barplot(x='quality', y='citric acid', data=wine)"
   ]
  },
  {
   "cell_type": "code",
   "execution_count": 16,
   "metadata": {},
   "outputs": [
    {
     "data": {
      "text/plain": [
       "<matplotlib.axes._subplots.AxesSubplot at 0x2283c0c4108>"
      ]
     },
     "execution_count": 16,
     "metadata": {},
     "output_type": "execute_result"
    },
    {
     "data": {
      "image/png": "[encoded data removed]",
      "text/plain": [
       "<Figure size 576x432 with 1 Axes>"
      ]
     },
     "metadata": {
      "needs_background": "light"
     },
     "output_type": "display_data"
    }
   ],
   "source": [
    "#no correlation between the amount of residual sugar and the wine quality\n",
    "\n",
    "plt.figure(figsize=(8,6))\n",
    "sns.barplot(x='quality', y='residual sugar', data=wine)"
   ]
  },
  {
   "cell_type": "code",
   "execution_count": 17,
   "metadata": {},
   "outputs": [
    {
     "data": {
      "text/plain": [
       "<matplotlib.axes._subplots.AxesSubplot at 0x2283bf974c8>"
      ]
     },
     "execution_count": 17,
     "metadata": {},
     "output_type": "execute_result"
    },
    {
     "data": {
      "image/png": "[encoded data removed]",
      "text/plain": [
       "<Figure size 576x432 with 1 Axes>"
      ]
     },
     "metadata": {
      "needs_background": "light"
     },
     "output_type": "display_data"
    }
   ],
   "source": [
    "#Higher quality wines have less chlorides in them.\n",
    "\n",
    "plt.figure(figsize=(8,6))\n",
    "sns.barplot(x='quality', y='chlorides', data=wine)"
   ]
  },
  {
   "cell_type": "markdown",
   "metadata": {},
   "source": [
    "CLASSIFICATION\n",
    "\n",
    "* Since the quality of these wines vary from 3-8, we will do a sort of classification such that;\n",
    "quality = ['good','bad']\n",
    "wines with quality from 1-5 will be regarded as bad, and those with quality from 6-10 will be regarded as good"
   ]
  },
  {
   "cell_type": "code",
   "execution_count": 18,
   "metadata": {},
   "outputs": [],
   "source": [
    "#For a wine to be good it should have a rating of 7 or more\n",
    "\n",
    "def rating(quality):\n",
    "    if quality < 7:\n",
    "        quality = 'bad'\n",
    "        return quality\n",
    "    else:\n",
    "        quality = 'good'\n",
    "        return quality"
   ]
  },
  {
   "cell_type": "code",
   "execution_count": 19,
   "metadata": {},
   "outputs": [],
   "source": [
    "wine['quality'] = wine['quality'].apply(rating)"
   ]
  },
  {
   "cell_type": "code",
   "execution_count": 20,
   "metadata": {},
   "outputs": [
    {
     "data": {
      "text/html": [
       "<div>\n",
       "<style scoped>\n",
       "    .dataframe tbody tr th:only-of-type {\n",
       "        vertical-align: middle;\n",
       "    }\n",
       "\n",
       "    .dataframe tbody tr th {\n",
       "        vertical-align: top;\n",
       "    }\n",
       "\n",
       "    .dataframe thead th {\n",
       "        text-align: right;\n",
       "    }\n",
       "</style>\n",
       "<table border=\"1\" class=\"dataframe\">\n",
       "  <thead>\n",
       "    <tr style=\"text-align: right;\">\n",
       "      <th></th>\n",
       "      <th>fixed acidity</th>\n",
       "      <th>volatile acidity</th>\n",
       "      <th>citric acid</th>\n",
       "      <th>residual sugar</th>\n",
       "      <th>chlorides</th>\n",
       "      <th>free sulfur dioxide</th>\n",
       "      <th>total sulfur dioxide</th>\n",
       "      <th>density</th>\n",
       "      <th>pH</th>\n",
       "      <th>sulphates</th>\n",
       "      <th>alcohol</th>\n",
       "      <th>quality</th>\n",
       "    </tr>\n",
       "  </thead>\n",
       "  <tbody>\n",
       "    <tr>\n",
       "      <td>1594</td>\n",
       "      <td>6.2</td>\n",
       "      <td>0.600</td>\n",
       "      <td>0.08</td>\n",
       "      <td>2.0</td>\n",
       "      <td>0.090</td>\n",
       "      <td>32.0</td>\n",
       "      <td>44.0</td>\n",
       "      <td>0.99490</td>\n",
       "      <td>3.45</td>\n",
       "      <td>0.58</td>\n",
       "      <td>10.5</td>\n",
       "      <td>bad</td>\n",
       "    </tr>\n",
       "    <tr>\n",
       "      <td>1595</td>\n",
       "      <td>5.9</td>\n",
       "      <td>0.550</td>\n",
       "      <td>0.10</td>\n",
       "      <td>2.2</td>\n",
       "      <td>0.062</td>\n",
       "      <td>39.0</td>\n",
       "      <td>51.0</td>\n",
       "      <td>0.99512</td>\n",
       "      <td>3.52</td>\n",
       "      <td>0.76</td>\n",
       "      <td>11.2</td>\n",
       "      <td>bad</td>\n",
       "    </tr>\n",
       "    <tr>\n",
       "      <td>1596</td>\n",
       "      <td>6.3</td>\n",
       "      <td>0.510</td>\n",
       "      <td>0.13</td>\n",
       "      <td>2.3</td>\n",
       "      <td>0.076</td>\n",
       "      <td>29.0</td>\n",
       "      <td>40.0</td>\n",
       "      <td>0.99574</td>\n",
       "      <td>3.42</td>\n",
       "      <td>0.75</td>\n",
       "      <td>11.0</td>\n",
       "      <td>bad</td>\n",
       "    </tr>\n",
       "    <tr>\n",
       "      <td>1597</td>\n",
       "      <td>5.9</td>\n",
       "      <td>0.645</td>\n",
       "      <td>0.12</td>\n",
       "      <td>2.0</td>\n",
       "      <td>0.075</td>\n",
       "      <td>32.0</td>\n",
       "      <td>44.0</td>\n",
       "      <td>0.99547</td>\n",
       "      <td>3.57</td>\n",
       "      <td>0.71</td>\n",
       "      <td>10.2</td>\n",
       "      <td>bad</td>\n",
       "    </tr>\n",
       "    <tr>\n",
       "      <td>1598</td>\n",
       "      <td>6.0</td>\n",
       "      <td>0.310</td>\n",
       "      <td>0.47</td>\n",
       "      <td>3.6</td>\n",
       "      <td>0.067</td>\n",
       "      <td>18.0</td>\n",
       "      <td>42.0</td>\n",
       "      <td>0.99549</td>\n",
       "      <td>3.39</td>\n",
       "      <td>0.66</td>\n",
       "      <td>11.0</td>\n",
       "      <td>bad</td>\n",
       "    </tr>\n",
       "  </tbody>\n",
       "</table>\n",
       "</div>"
      ],
      "text/plain": [
       "      fixed acidity  volatile acidity  citric acid  residual sugar  chlorides  \\\n",
       "1594            6.2             0.600         0.08             2.0      0.090   \n",
       "1595            5.9             0.550         0.10             2.2      0.062   \n",
       "1596            6.3             0.510         0.13             2.3      0.076   \n",
       "1597            5.9             0.645         0.12             2.0      0.075   \n",
       "1598            6.0             0.310         0.47             3.6      0.067   \n",
       "\n",
       "      free sulfur dioxide  total sulfur dioxide  density    pH  sulphates  \\\n",
       "1594                 32.0                  44.0  0.99490  3.45       0.58   \n",
       "1595                 39.0                  51.0  0.99512  3.52       0.76   \n",
       "1596                 29.0                  40.0  0.99574  3.42       0.75   \n",
       "1597                 32.0                  44.0  0.99547  3.57       0.71   \n",
       "1598                 18.0                  42.0  0.99549  3.39       0.66   \n",
       "\n",
       "      alcohol quality  \n",
       "1594     10.5     bad  \n",
       "1595     11.2     bad  \n",
       "1596     11.0     bad  \n",
       "1597     10.2     bad  \n",
       "1598     11.0     bad  "
      ]
     },
     "execution_count": 20,
     "metadata": {},
     "output_type": "execute_result"
    }
   ],
   "source": [
    "wine.tail()"
   ]
  },
  {
   "cell_type": "code",
   "execution_count": 21,
   "metadata": {},
   "outputs": [
    {
     "data": {
      "text/plain": [
       "bad     1382\n",
       "good     217\n",
       "Name: quality, dtype: int64"
      ]
     },
     "execution_count": 21,
     "metadata": {},
     "output_type": "execute_result"
    }
   ],
   "source": [
    "wine['quality'].value_counts()"
   ]
  },
  {
   "cell_type": "code",
   "execution_count": 22,
   "metadata": {},
   "outputs": [
    {
     "data": {
      "text/plain": [
       "<matplotlib.axes._subplots.AxesSubplot at 0x2283d0cc248>"
      ]
     },
     "execution_count": 22,
     "metadata": {},
     "output_type": "execute_result"
    },
    {
     "data": {
      "image/png": "[encoded data removed]",
      "text/plain": [
       "<Figure size 432x288 with 1 Axes>"
      ]
     },
     "metadata": {
      "needs_background": "light"
     },
     "output_type": "display_data"
    }
   ],
   "source": [
    "sns.countplot(wine['quality'])"
   ]
  },
  {
   "cell_type": "markdown",
   "metadata": {},
   "source": [
    "Now we have the wine quality split into good or bad. We will now begin running our classification models and see which one works best"
   ]
  },
  {
   "cell_type": "markdown",
   "metadata": {},
   "source": [
    "Scaling the Data\n",
    "--\n",
    "\n",
    "I will now scale the data such that it makes it easier for classifiers such as KNN to work with"
   ]
  },
  {
   "cell_type": "code",
   "execution_count": 23,
   "metadata": {},
   "outputs": [],
   "source": [
    "from sklearn.preprocessing import StandardScaler"
   ]
  },
  {
   "cell_type": "code",
   "execution_count": 24,
   "metadata": {},
   "outputs": [],
   "source": [
    "scaler = StandardScaler()"
   ]
  },
  {
   "cell_type": "code",
   "execution_count": 25,
   "metadata": {},
   "outputs": [
    {
     "data": {
      "text/plain": [
       "StandardScaler(copy=True, with_mean=True, with_std=True)"
      ]
     },
     "execution_count": 25,
     "metadata": {},
     "output_type": "execute_result"
    }
   ],
   "source": [
    "scaler.fit(wine.drop('quality', axis=1))"
   ]
  },
  {
   "cell_type": "code",
   "execution_count": 26,
   "metadata": {},
   "outputs": [],
   "source": [
    "scaled_data = pd.DataFrame(scaler.transform(wine.drop('quality', axis=1)), columns = wine.columns[:-1])"
   ]
  },
  {
   "cell_type": "code",
   "execution_count": 27,
   "metadata": {},
   "outputs": [
    {
     "data": {
      "text/html": [
       "<div>\n",
       "<style scoped>\n",
       "    .dataframe tbody tr th:only-of-type {\n",
       "        vertical-align: middle;\n",
       "    }\n",
       "\n",
       "    .dataframe tbody tr th {\n",
       "        vertical-align: top;\n",
       "    }\n",
       "\n",
       "    .dataframe thead th {\n",
       "        text-align: right;\n",
       "    }\n",
       "</style>\n",
       "<table border=\"1\" class=\"dataframe\">\n",
       "  <thead>\n",
       "    <tr style=\"text-align: right;\">\n",
       "      <th></th>\n",
       "      <th>fixed acidity</th>\n",
       "      <th>volatile acidity</th>\n",
       "      <th>citric acid</th>\n",
       "      <th>residual sugar</th>\n",
       "      <th>chlorides</th>\n",
       "      <th>free sulfur dioxide</th>\n",
       "      <th>total sulfur dioxide</th>\n",
       "      <th>density</th>\n",
       "      <th>pH</th>\n",
       "      <th>sulphates</th>\n",
       "      <th>alcohol</th>\n",
       "    </tr>\n",
       "  </thead>\n",
       "  <tbody>\n",
       "    <tr>\n",
       "      <td>0</td>\n",
       "      <td>-0.528360</td>\n",
       "      <td>0.961877</td>\n",
       "      <td>-1.391472</td>\n",
       "      <td>-0.453218</td>\n",
       "      <td>-0.243707</td>\n",
       "      <td>-0.466193</td>\n",
       "      <td>-0.379133</td>\n",
       "      <td>0.558274</td>\n",
       "      <td>1.288643</td>\n",
       "      <td>-0.579207</td>\n",
       "      <td>-0.960246</td>\n",
       "    </tr>\n",
       "    <tr>\n",
       "      <td>1</td>\n",
       "      <td>-0.298547</td>\n",
       "      <td>1.967442</td>\n",
       "      <td>-1.391472</td>\n",
       "      <td>0.043416</td>\n",
       "      <td>0.223875</td>\n",
       "      <td>0.872638</td>\n",
       "      <td>0.624363</td>\n",
       "      <td>0.028261</td>\n",
       "      <td>-0.719933</td>\n",
       "      <td>0.128950</td>\n",
       "      <td>-0.584777</td>\n",
       "    </tr>\n",
       "    <tr>\n",
       "      <td>2</td>\n",
       "      <td>-0.298547</td>\n",
       "      <td>1.297065</td>\n",
       "      <td>-1.186070</td>\n",
       "      <td>-0.169427</td>\n",
       "      <td>0.096353</td>\n",
       "      <td>-0.083669</td>\n",
       "      <td>0.229047</td>\n",
       "      <td>0.134264</td>\n",
       "      <td>-0.331177</td>\n",
       "      <td>-0.048089</td>\n",
       "      <td>-0.584777</td>\n",
       "    </tr>\n",
       "    <tr>\n",
       "      <td>3</td>\n",
       "      <td>1.654856</td>\n",
       "      <td>-1.384443</td>\n",
       "      <td>1.484154</td>\n",
       "      <td>-0.453218</td>\n",
       "      <td>-0.264960</td>\n",
       "      <td>0.107592</td>\n",
       "      <td>0.411500</td>\n",
       "      <td>0.664277</td>\n",
       "      <td>-0.979104</td>\n",
       "      <td>-0.461180</td>\n",
       "      <td>-0.584777</td>\n",
       "    </tr>\n",
       "    <tr>\n",
       "      <td>4</td>\n",
       "      <td>-0.528360</td>\n",
       "      <td>0.961877</td>\n",
       "      <td>-1.391472</td>\n",
       "      <td>-0.453218</td>\n",
       "      <td>-0.243707</td>\n",
       "      <td>-0.466193</td>\n",
       "      <td>-0.379133</td>\n",
       "      <td>0.558274</td>\n",
       "      <td>1.288643</td>\n",
       "      <td>-0.579207</td>\n",
       "      <td>-0.960246</td>\n",
       "    </tr>\n",
       "  </tbody>\n",
       "</table>\n",
       "</div>"
      ],
      "text/plain": [
       "   fixed acidity  volatile acidity  citric acid  residual sugar  chlorides  \\\n",
       "0      -0.528360          0.961877    -1.391472       -0.453218  -0.243707   \n",
       "1      -0.298547          1.967442    -1.391472        0.043416   0.223875   \n",
       "2      -0.298547          1.297065    -1.186070       -0.169427   0.096353   \n",
       "3       1.654856         -1.384443     1.484154       -0.453218  -0.264960   \n",
       "4      -0.528360          0.961877    -1.391472       -0.453218  -0.243707   \n",
       "\n",
       "   free sulfur dioxide  total sulfur dioxide   density        pH  sulphates  \\\n",
       "0            -0.466193             -0.379133  0.558274  1.288643  -0.579207   \n",
       "1             0.872638              0.624363  0.028261 -0.719933   0.128950   \n",
       "2            -0.083669              0.229047  0.134264 -0.331177  -0.048089   \n",
       "3             0.107592              0.411500  0.664277 -0.979104  -0.461180   \n",
       "4            -0.466193             -0.379133  0.558274  1.288643  -0.579207   \n",
       "\n",
       "    alcohol  \n",
       "0 -0.960246  \n",
       "1 -0.584777  \n",
       "2 -0.584777  \n",
       "3 -0.584777  \n",
       "4 -0.960246  "
      ]
     },
     "execution_count": 27,
     "metadata": {},
     "output_type": "execute_result"
    }
   ],
   "source": [
    "scaled_data.head()"
   ]
  },
  {
   "cell_type": "markdown",
   "metadata": {},
   "source": [
    "Train_test_split\n",
    "-"
   ]
  },
  {
   "cell_type": "code",
   "execution_count": 28,
   "metadata": {},
   "outputs": [],
   "source": [
    "from sklearn.model_selection import train_test_split"
   ]
  },
  {
   "cell_type": "code",
   "execution_count": 29,
   "metadata": {},
   "outputs": [],
   "source": [
    "x = scaled_data\n",
    "y = wine['quality']"
   ]
  },
  {
   "cell_type": "code",
   "execution_count": 30,
   "metadata": {},
   "outputs": [],
   "source": [
    "x_train, x_test, y_train, y_test = train_test_split(x, y, test_size=0.33, random_state=101)"
   ]
  },
  {
   "cell_type": "markdown",
   "metadata": {},
   "source": [
    "Using KNN Classifier\n",
    "--"
   ]
  },
  {
   "cell_type": "code",
   "execution_count": 31,
   "metadata": {},
   "outputs": [],
   "source": [
    "from sklearn.neighbors import KNeighborsClassifier"
   ]
  },
  {
   "cell_type": "markdown",
   "metadata": {},
   "source": [
    "Selecting the best value of k\n",
    "-\n",
    "To select a best value for k, I will:\n",
    "- Loop through with various k values\n",
    "- Check the error rate for each\n",
    "- Visualize these error rates versus each other\n",
    "- Choose a k value with the lowest errors"
   ]
  },
  {
   "cell_type": "code",
   "execution_count": 37,
   "metadata": {},
   "outputs": [],
   "source": [
    "#I will try k value from 1-100.\n",
    "\n",
    "error_rate = []\n",
    "\n",
    "for kvalue in range(1,100):\n",
    "    knn = KNeighborsClassifier(n_neighbors=kvalue)\n",
    "    knn.fit(x_train, y_train)\n",
    "    prediction = knn.predict(x_test)\n",
    "    error_rate.append(np.mean(prediction != y_test))"
   ]
  },
  {
   "cell_type": "code",
   "execution_count": 40,
   "metadata": {},
   "outputs": [
    {
     "data": {
      "text/plain": [
       "Text(0, 0.5, 'Error Rate')"
      ]
     },
     "execution_count": 40,
     "metadata": {},
     "output_type": "execute_result"
    },
    {
     "data": {
      "image/png": "[encoded data removed]",
      "text/plain": [
       "<Figure size 720x432 with 1 Axes>"
      ]
     },
     "metadata": {
      "needs_background": "light"
     },
     "output_type": "display_data"
    }
   ],
   "source": [
    "#Plotting out our respective error rates to visualize the least error\n",
    "plt.figure(figsize=(10,6))\n",
    "\n",
    "plt.plot(range(1,100), error_rate, color='blue', ls='--',marker='o',\n",
    "        markerfacecolor='red', markersize=8)\n",
    "\n",
    "plt.title('Error Rate vs K Value')\n",
    "plt.xlabel('k value')\n",
    "plt.ylabel('Error Rate')"
   ]
  },
  {
   "cell_type": "markdown",
   "metadata": {},
   "source": [
    "Judging from this plot, we can see the least error when n_neighbours=90.\n",
    "We will now choose it as our kvalue and print a classification report"
   ]
  },
  {
   "cell_type": "code",
   "execution_count": 49,
   "metadata": {},
   "outputs": [],
   "source": [
    "knn = KNeighborsClassifier(n_neighbors=90)\n",
    "knn.fit(x_train,y_train)\n",
    "predictions = knn.predict(x_test)"
   ]
  },
  {
   "cell_type": "code",
   "execution_count": 50,
   "metadata": {},
   "outputs": [],
   "source": [
    "from sklearn.metrics import classification_report, confusion_matrix"
   ]
  },
  {
   "cell_type": "code",
   "execution_count": 51,
   "metadata": {},
   "outputs": [
    {
     "name": "stdout",
     "output_type": "stream",
     "text": [
      "[[446   8]\n",
      " [ 61  13]]\n"
     ]
    }
   ],
   "source": [
    "print(confusion_matrix(y_test, predictions))"
   ]
  },
  {
   "cell_type": "code",
   "execution_count": 52,
   "metadata": {},
   "outputs": [
    {
     "name": "stdout",
     "output_type": "stream",
     "text": [
      "              precision    recall  f1-score   support\n",
      "\n",
      "         bad       0.88      0.98      0.93       454\n",
      "        good       0.62      0.18      0.27        74\n",
      "\n",
      "    accuracy                           0.87       528\n",
      "   macro avg       0.75      0.58      0.60       528\n",
      "weighted avg       0.84      0.87      0.84       528\n",
      "\n"
     ]
    }
   ],
   "source": [
    "print(classification_report(y_test, predictions))"
   ]
  },
  {
   "cell_type": "markdown",
   "metadata": {},
   "source": [
    "We can see an accuracy of 87% using a well evaluated KNN Classifier"
   ]
  },
  {
   "cell_type": "markdown",
   "metadata": {},
   "source": [
    "Random Forest Classifier\n",
    "--"
   ]
  },
  {
   "cell_type": "code",
   "execution_count": 53,
   "metadata": {},
   "outputs": [],
   "source": [
    "from sklearn.ensemble import RandomForestClassifier"
   ]
  },
  {
   "cell_type": "code",
   "execution_count": 105,
   "metadata": {},
   "outputs": [],
   "source": [
    "rfc = RandomForestClassifier(n_estimators=300)"
   ]
  },
  {
   "cell_type": "code",
   "execution_count": 106,
   "metadata": {},
   "outputs": [
    {
     "data": {
      "text/plain": [
       "RandomForestClassifier(bootstrap=True, class_weight=None, criterion='gini',\n",
       "                       max_depth=None, max_features='auto', max_leaf_nodes=None,\n",
       "                       min_impurity_decrease=0.0, min_impurity_split=None,\n",
       "                       min_samples_leaf=1, min_samples_split=2,\n",
       "                       min_weight_fraction_leaf=0.0, n_estimators=300,\n",
       "                       n_jobs=None, oob_score=False, random_state=None,\n",
       "                       verbose=0, warm_start=False)"
      ]
     },
     "execution_count": 106,
     "metadata": {},
     "output_type": "execute_result"
    }
   ],
   "source": [
    "rfc.fit(x_train, y_train)"
   ]
  },
  {
   "cell_type": "code",
   "execution_count": 107,
   "metadata": {},
   "outputs": [],
   "source": [
    "rfc_predict = rfc.predict(x_test)"
   ]
  },
  {
   "cell_type": "code",
   "execution_count": 108,
   "metadata": {},
   "outputs": [
    {
     "name": "stdout",
     "output_type": "stream",
     "text": [
      "[[439  15]\n",
      " [ 41  33]]\n"
     ]
    }
   ],
   "source": [
    "print(confusion_matrix(y_test,rfc_predict))"
   ]
  },
  {
   "cell_type": "code",
   "execution_count": 109,
   "metadata": {},
   "outputs": [
    {
     "name": "stdout",
     "output_type": "stream",
     "text": [
      "              precision    recall  f1-score   support\n",
      "\n",
      "         bad       0.91      0.97      0.94       454\n",
      "        good       0.69      0.45      0.54        74\n",
      "\n",
      "    accuracy                           0.89       528\n",
      "   macro avg       0.80      0.71      0.74       528\n",
      "weighted avg       0.88      0.89      0.88       528\n",
      "\n"
     ]
    }
   ],
   "source": [
    "print(classification_report(y_test, rfc_predict))"
   ]
  },
  {
   "cell_type": "markdown",
   "metadata": {},
   "source": [
    "The Random Forest Classifier gives an accuracy of 89% which is slightly better than that of the KNN Classifier"
   ]
  },
  {
   "cell_type": "markdown",
   "metadata": {},
   "source": [
    "Using SVM\n",
    "--"
   ]
  },
  {
   "cell_type": "code",
   "execution_count": 110,
   "metadata": {},
   "outputs": [],
   "source": [
    "from sklearn.model_selection import GridSearchCV"
   ]
  },
  {
   "cell_type": "code",
   "execution_count": 154,
   "metadata": {},
   "outputs": [],
   "source": [
    "from sklearn.svm import SVC"
   ]
  },
  {
   "cell_type": "code",
   "execution_count": 159,
   "metadata": {},
   "outputs": [],
   "source": [
    "params = []\n",
    "count = 0.8\n",
    "while count < 1.8:\n",
    "    params.append(count)\n",
    "    count += 0.1"
   ]
  },
  {
   "cell_type": "code",
   "execution_count": 160,
   "metadata": {},
   "outputs": [],
   "source": [
    "param_grid = {'C':params, 'gamma':params}"
   ]
  },
  {
   "cell_type": "code",
   "execution_count": 161,
   "metadata": {},
   "outputs": [],
   "source": [
    "#Setting my verbose value in order to see how the Grid Search runs\n",
    "\n",
    "grid = GridSearchCV(SVC(), param_grid, verbose=2)"
   ]
  },
  {
   "cell_type": "code",
   "execution_count": 162,
   "metadata": {},
   "outputs": [
    {
     "name": "stderr",
     "output_type": "stream",
     "text": [
      "C:\\Users\\user\\Anaconda3\\lib\\site-packages\\sklearn\\model_selection\\_split.py:1978: FutureWarning: The default value of cv will change from 3 to 5 in version 0.22. Specify it explicitly to silence this warning.\n",
      "  warnings.warn(CV_WARNING, FutureWarning)\n",
      "[Parallel(n_jobs=1)]: Using backend SequentialBackend with 1 concurrent workers.\n",
      "[Parallel(n_jobs=1)]: Done   1 out of   1 | elapsed:    0.0s remaining:    0.0s\n"
     ]
    },
    {
     "name": "stdout",
     "output_type": "stream",
     "text": [
      "Fitting 3 folds for each of 100 candidates, totalling 300 fits\n",
      "[CV] C=0.8, gamma=0.8 ................................................\n",
      "[CV] ................................. C=0.8, gamma=0.8, total=   0.1s\n",
      "[CV] C=0.8, gamma=0.8 ................................................\n",
      "[CV] ................................. C=0.8, gamma=0.8, total=   0.0s\n",
      "[CV] C=0.8, gamma=0.8 ................................................\n",
      "[CV] ................................. C=0.8, gamma=0.8, total=   0.0s\n",
      "[CV] C=0.8, gamma=0.9 ................................................\n",
      "[CV] ................................. C=0.8, gamma=0.9, total=   0.1s\n",
      "[CV] C=0.8, gamma=0.9 ................................................\n",
      "[CV] ................................. C=0.8, gamma=0.9, total=   0.1s\n",
      "[CV] C=0.8, gamma=0.9 ................................................\n",
      "[CV] ................................. C=0.8, gamma=0.9, total=   0.0s\n",
      "[CV] C=0.8, gamma=1.0 ................................................\n",
      "[CV] ................................. C=0.8, gamma=1.0, total=   0.1s\n",
      "[CV] C=0.8, gamma=1.0 ................................................\n",
      "[CV] ................................. C=0.8, gamma=1.0, total=   0.1s\n",
      "[CV] C=0.8, gamma=1.0 ................................................\n",
      "[CV] ................................. C=0.8, gamma=1.0, total=   0.1s\n",
      "[CV] C=0.8, gamma=1.1 ................................................\n",
      "[CV] ................................. C=0.8, gamma=1.1, total=   0.0s\n",
      "[CV] C=0.8, gamma=1.1 ................................................\n",
      "[CV] ................................. C=0.8, gamma=1.1, total=   0.0s\n",
      "[CV] C=0.8, gamma=1.1 ................................................\n",
      "[CV] ................................. C=0.8, gamma=1.1, total=   0.1s\n",
      "[CV] C=0.8, gamma=1.2000000000000002 .................................\n",
      "[CV] .................. C=0.8, gamma=1.2000000000000002, total=   0.1s\n",
      "[CV] C=0.8, gamma=1.2000000000000002 .................................\n",
      "[CV] .................. C=0.8, gamma=1.2000000000000002, total=   0.1s\n",
      "[CV] C=0.8, gamma=1.2000000000000002 .................................\n",
      "[CV] .................. C=0.8, gamma=1.2000000000000002, total=   0.1s\n",
      "[CV] C=0.8, gamma=1.3000000000000003 .................................\n",
      "[CV] .................. C=0.8, gamma=1.3000000000000003, total=   0.1s\n",
      "[CV] C=0.8, gamma=1.3000000000000003 .................................\n",
      "[CV] .................. C=0.8, gamma=1.3000000000000003, total=   0.0s\n",
      "[CV] C=0.8, gamma=1.3000000000000003 .................................\n",
      "[CV] .................. C=0.8, gamma=1.3000000000000003, total=   0.1s\n",
      "[CV] C=0.8, gamma=1.4000000000000004 .................................\n",
      "[CV] .................. C=0.8, gamma=1.4000000000000004, total=   0.1s\n",
      "[CV] C=0.8, gamma=1.4000000000000004 .................................\n",
      "[CV] .................. C=0.8, gamma=1.4000000000000004, total=   0.0s\n",
      "[CV] C=0.8, gamma=1.4000000000000004 .................................\n",
      "[CV] .................. C=0.8, gamma=1.4000000000000004, total=   0.1s\n",
      "[CV] C=0.8, gamma=1.5000000000000004 .................................\n",
      "[CV] .................. C=0.8, gamma=1.5000000000000004, total=   0.0s\n",
      "[CV] C=0.8, gamma=1.5000000000000004 .................................\n",
      "[CV] .................. C=0.8, gamma=1.5000000000000004, total=   0.1s\n",
      "[CV] C=0.8, gamma=1.5000000000000004 .................................\n",
      "[CV] .................. C=0.8, gamma=1.5000000000000004, total=   0.0s\n",
      "[CV] C=0.8, gamma=1.6000000000000005 .................................\n",
      "[CV] .................. C=0.8, gamma=1.6000000000000005, total=   0.1s\n",
      "[CV] C=0.8, gamma=1.6000000000000005 .................................\n",
      "[CV] .................. C=0.8, gamma=1.6000000000000005, total=   0.1s\n",
      "[CV] C=0.8, gamma=1.6000000000000005 .................................\n",
      "[CV] .................. C=0.8, gamma=1.6000000000000005, total=   0.1s\n",
      "[CV] C=0.8, gamma=1.7000000000000006 .................................\n",
      "[CV] .................. C=0.8, gamma=1.7000000000000006, total=   0.1s\n",
      "[CV] C=0.8, gamma=1.7000000000000006 .................................\n",
      "[CV] .................. C=0.8, gamma=1.7000000000000006, total=   0.1s\n",
      "[CV] C=0.8, gamma=1.7000000000000006 .................................\n",
      "[CV] .................. C=0.8, gamma=1.7000000000000006, total=   0.0s\n",
      "[CV] C=0.9, gamma=0.8 ................................................\n",
      "[CV] ................................. C=0.9, gamma=0.8, total=   0.0s\n",
      "[CV] C=0.9, gamma=0.8 ................................................\n",
      "[CV] ................................. C=0.9, gamma=0.8, total=   0.1s\n",
      "[CV] C=0.9, gamma=0.8 ................................................\n",
      "[CV] ................................. C=0.9, gamma=0.8, total=   0.1s\n",
      "[CV] C=0.9, gamma=0.9 ................................................\n",
      "[CV] ................................. C=0.9, gamma=0.9, total=   0.0s\n",
      "[CV] C=0.9, gamma=0.9 ................................................\n",
      "[CV] ................................. C=0.9, gamma=0.9, total=   0.1s\n",
      "[CV] C=0.9, gamma=0.9 ................................................\n",
      "[CV] ................................. C=0.9, gamma=0.9, total=   0.1s\n",
      "[CV] C=0.9, gamma=1.0 ................................................\n",
      "[CV] ................................. C=0.9, gamma=1.0, total=   0.1s\n",
      "[CV] C=0.9, gamma=1.0 ................................................\n",
      "[CV] ................................. C=0.9, gamma=1.0, total=   0.1s\n",
      "[CV] C=0.9, gamma=1.0 ................................................\n",
      "[CV] ................................. C=0.9, gamma=1.0, total=   0.1s\n",
      "[CV] C=0.9, gamma=1.1 ................................................\n",
      "[CV] ................................. C=0.9, gamma=1.1, total=   0.1s\n",
      "[CV] C=0.9, gamma=1.1 ................................................\n",
      "[CV] ................................. C=0.9, gamma=1.1, total=   0.1s\n",
      "[CV] C=0.9, gamma=1.1 ................................................\n",
      "[CV] ................................. C=0.9, gamma=1.1, total=   0.0s\n",
      "[CV] C=0.9, gamma=1.2000000000000002 .................................\n",
      "[CV] .................. C=0.9, gamma=1.2000000000000002, total=   0.1s\n",
      "[CV] C=0.9, gamma=1.2000000000000002 .................................\n",
      "[CV] .................. C=0.9, gamma=1.2000000000000002, total=   0.1s\n",
      "[CV] C=0.9, gamma=1.2000000000000002 .................................\n",
      "[CV] .................. C=0.9, gamma=1.2000000000000002, total=   0.1s\n",
      "[CV] C=0.9, gamma=1.3000000000000003 .................................\n",
      "[CV] .................. C=0.9, gamma=1.3000000000000003, total=   0.1s\n",
      "[CV] C=0.9, gamma=1.3000000000000003 .................................\n",
      "[CV] .................. C=0.9, gamma=1.3000000000000003, total=   0.1s\n",
      "[CV] C=0.9, gamma=1.3000000000000003 .................................\n",
      "[CV] .................. C=0.9, gamma=1.3000000000000003, total=   0.1s\n",
      "[CV] C=0.9, gamma=1.4000000000000004 .................................\n",
      "[CV] .................. C=0.9, gamma=1.4000000000000004, total=   0.1s\n",
      "[CV] C=0.9, gamma=1.4000000000000004 .................................\n",
      "[CV] .................. C=0.9, gamma=1.4000000000000004, total=   0.1s\n",
      "[CV] C=0.9, gamma=1.4000000000000004 .................................\n",
      "[CV] .................. C=0.9, gamma=1.4000000000000004, total=   0.1s\n",
      "[CV] C=0.9, gamma=1.5000000000000004 .................................\n",
      "[CV] .................. C=0.9, gamma=1.5000000000000004, total=   0.1s\n",
      "[CV] C=0.9, gamma=1.5000000000000004 .................................\n",
      "[CV] .................. C=0.9, gamma=1.5000000000000004, total=   0.1s\n",
      "[CV] C=0.9, gamma=1.5000000000000004 .................................\n",
      "[CV] .................. C=0.9, gamma=1.5000000000000004, total=   0.1s\n",
      "[CV] C=0.9, gamma=1.6000000000000005 .................................\n",
      "[CV] .................. C=0.9, gamma=1.6000000000000005, total=   0.1s\n",
      "[CV] C=0.9, gamma=1.6000000000000005 .................................\n",
      "[CV] .................. C=0.9, gamma=1.6000000000000005, total=   0.1s\n",
      "[CV] C=0.9, gamma=1.6000000000000005 .................................\n",
      "[CV] .................. C=0.9, gamma=1.6000000000000005, total=   0.1s\n",
      "[CV] C=0.9, gamma=1.7000000000000006 .................................\n"
     ]
    },
    {
     "name": "stdout",
     "output_type": "stream",
     "text": [
      "[CV] .................. C=0.9, gamma=1.7000000000000006, total=   0.1s\n",
      "[CV] C=0.9, gamma=1.7000000000000006 .................................\n",
      "[CV] .................. C=0.9, gamma=1.7000000000000006, total=   0.1s\n",
      "[CV] C=0.9, gamma=1.7000000000000006 .................................\n",
      "[CV] .................. C=0.9, gamma=1.7000000000000006, total=   0.1s\n",
      "[CV] C=1.0, gamma=0.8 ................................................\n",
      "[CV] ................................. C=1.0, gamma=0.8, total=   0.0s\n",
      "[CV] C=1.0, gamma=0.8 ................................................\n",
      "[CV] ................................. C=1.0, gamma=0.8, total=   0.1s\n",
      "[CV] C=1.0, gamma=0.8 ................................................\n",
      "[CV] ................................. C=1.0, gamma=0.8, total=   0.0s\n",
      "[CV] C=1.0, gamma=0.9 ................................................\n",
      "[CV] ................................. C=1.0, gamma=0.9, total=   0.1s\n",
      "[CV] C=1.0, gamma=0.9 ................................................\n",
      "[CV] ................................. C=1.0, gamma=0.9, total=   0.1s\n",
      "[CV] C=1.0, gamma=0.9 ................................................\n",
      "[CV] ................................. C=1.0, gamma=0.9, total=   0.1s\n",
      "[CV] C=1.0, gamma=1.0 ................................................\n",
      "[CV] ................................. C=1.0, gamma=1.0, total=   0.1s\n",
      "[CV] C=1.0, gamma=1.0 ................................................\n",
      "[CV] ................................. C=1.0, gamma=1.0, total=   0.1s\n",
      "[CV] C=1.0, gamma=1.0 ................................................\n",
      "[CV] ................................. C=1.0, gamma=1.0, total=   0.1s\n",
      "[CV] C=1.0, gamma=1.1 ................................................\n",
      "[CV] ................................. C=1.0, gamma=1.1, total=   0.1s\n",
      "[CV] C=1.0, gamma=1.1 ................................................\n",
      "[CV] ................................. C=1.0, gamma=1.1, total=   0.1s\n",
      "[CV] C=1.0, gamma=1.1 ................................................\n",
      "[CV] ................................. C=1.0, gamma=1.1, total=   0.1s\n",
      "[CV] C=1.0, gamma=1.2000000000000002 .................................\n",
      "[CV] .................. C=1.0, gamma=1.2000000000000002, total=   0.1s\n",
      "[CV] C=1.0, gamma=1.2000000000000002 .................................\n",
      "[CV] .................. C=1.0, gamma=1.2000000000000002, total=   0.1s\n",
      "[CV] C=1.0, gamma=1.2000000000000002 .................................\n",
      "[CV] .................. C=1.0, gamma=1.2000000000000002, total=   0.1s\n",
      "[CV] C=1.0, gamma=1.3000000000000003 .................................\n",
      "[CV] .................. C=1.0, gamma=1.3000000000000003, total=   0.1s\n",
      "[CV] C=1.0, gamma=1.3000000000000003 .................................\n",
      "[CV] .................. C=1.0, gamma=1.3000000000000003, total=   0.1s\n",
      "[CV] C=1.0, gamma=1.3000000000000003 .................................\n",
      "[CV] .................. C=1.0, gamma=1.3000000000000003, total=   0.1s\n",
      "[CV] C=1.0, gamma=1.4000000000000004 .................................\n",
      "[CV] .................. C=1.0, gamma=1.4000000000000004, total=   0.1s\n",
      "[CV] C=1.0, gamma=1.4000000000000004 .................................\n",
      "[CV] .................. C=1.0, gamma=1.4000000000000004, total=   0.1s\n",
      "[CV] C=1.0, gamma=1.4000000000000004 .................................\n",
      "[CV] .................. C=1.0, gamma=1.4000000000000004, total=   0.1s\n",
      "[CV] C=1.0, gamma=1.5000000000000004 .................................\n",
      "[CV] .................. C=1.0, gamma=1.5000000000000004, total=   0.1s\n",
      "[CV] C=1.0, gamma=1.5000000000000004 .................................\n",
      "[CV] .................. C=1.0, gamma=1.5000000000000004, total=   0.0s\n",
      "[CV] C=1.0, gamma=1.5000000000000004 .................................\n",
      "[CV] .................. C=1.0, gamma=1.5000000000000004, total=   0.1s\n",
      "[CV] C=1.0, gamma=1.6000000000000005 .................................\n",
      "[CV] .................. C=1.0, gamma=1.6000000000000005, total=   0.0s\n",
      "[CV] C=1.0, gamma=1.6000000000000005 .................................\n",
      "[CV] .................. C=1.0, gamma=1.6000000000000005, total=   0.0s\n",
      "[CV] C=1.0, gamma=1.6000000000000005 .................................\n",
      "[CV] .................. C=1.0, gamma=1.6000000000000005, total=   0.1s\n",
      "[CV] C=1.0, gamma=1.7000000000000006 .................................\n",
      "[CV] .................. C=1.0, gamma=1.7000000000000006, total=   0.1s\n",
      "[CV] C=1.0, gamma=1.7000000000000006 .................................\n",
      "[CV] .................. C=1.0, gamma=1.7000000000000006, total=   0.1s\n",
      "[CV] C=1.0, gamma=1.7000000000000006 .................................\n",
      "[CV] .................. C=1.0, gamma=1.7000000000000006, total=   0.0s\n",
      "[CV] C=1.1, gamma=0.8 ................................................\n",
      "[CV] ................................. C=1.1, gamma=0.8, total=   0.0s\n",
      "[CV] C=1.1, gamma=0.8 ................................................\n",
      "[CV] ................................. C=1.1, gamma=0.8, total=   0.1s\n",
      "[CV] C=1.1, gamma=0.8 ................................................\n",
      "[CV] ................................. C=1.1, gamma=0.8, total=   0.1s\n",
      "[CV] C=1.1, gamma=0.9 ................................................\n",
      "[CV] ................................. C=1.1, gamma=0.9, total=   0.0s\n",
      "[CV] C=1.1, gamma=0.9 ................................................\n",
      "[CV] ................................. C=1.1, gamma=0.9, total=   0.1s\n",
      "[CV] C=1.1, gamma=0.9 ................................................\n",
      "[CV] ................................. C=1.1, gamma=0.9, total=   0.1s\n",
      "[CV] C=1.1, gamma=1.0 ................................................\n",
      "[CV] ................................. C=1.1, gamma=1.0, total=   0.0s\n",
      "[CV] C=1.1, gamma=1.0 ................................................\n",
      "[CV] ................................. C=1.1, gamma=1.0, total=   0.0s\n",
      "[CV] C=1.1, gamma=1.0 ................................................\n",
      "[CV] ................................. C=1.1, gamma=1.0, total=   0.1s\n",
      "[CV] C=1.1, gamma=1.1 ................................................\n",
      "[CV] ................................. C=1.1, gamma=1.1, total=   0.0s\n",
      "[CV] C=1.1, gamma=1.1 ................................................\n",
      "[CV] ................................. C=1.1, gamma=1.1, total=   0.0s\n",
      "[CV] C=1.1, gamma=1.1 ................................................\n",
      "[CV] ................................. C=1.1, gamma=1.1, total=   0.0s\n",
      "[CV] C=1.1, gamma=1.2000000000000002 .................................\n",
      "[CV] .................. C=1.1, gamma=1.2000000000000002, total=   0.1s\n",
      "[CV] C=1.1, gamma=1.2000000000000002 .................................\n",
      "[CV] .................. C=1.1, gamma=1.2000000000000002, total=   0.1s\n",
      "[CV] C=1.1, gamma=1.2000000000000002 .................................\n",
      "[CV] .................. C=1.1, gamma=1.2000000000000002, total=   0.1s\n",
      "[CV] C=1.1, gamma=1.3000000000000003 .................................\n",
      "[CV] .................. C=1.1, gamma=1.3000000000000003, total=   0.1s\n",
      "[CV] C=1.1, gamma=1.3000000000000003 .................................\n",
      "[CV] .................. C=1.1, gamma=1.3000000000000003, total=   0.0s\n",
      "[CV] C=1.1, gamma=1.3000000000000003 .................................\n",
      "[CV] .................. C=1.1, gamma=1.3000000000000003, total=   0.1s\n",
      "[CV] C=1.1, gamma=1.4000000000000004 .................................\n",
      "[CV] .................. C=1.1, gamma=1.4000000000000004, total=   0.0s\n",
      "[CV] C=1.1, gamma=1.4000000000000004 .................................\n",
      "[CV] .................. C=1.1, gamma=1.4000000000000004, total=   0.1s\n",
      "[CV] C=1.1, gamma=1.4000000000000004 .................................\n",
      "[CV] .................. C=1.1, gamma=1.4000000000000004, total=   0.1s\n",
      "[CV] C=1.1, gamma=1.5000000000000004 .................................\n",
      "[CV] .................. C=1.1, gamma=1.5000000000000004, total=   0.0s\n",
      "[CV] C=1.1, gamma=1.5000000000000004 .................................\n",
      "[CV] .................. C=1.1, gamma=1.5000000000000004, total=   0.1s\n",
      "[CV] C=1.1, gamma=1.5000000000000004 .................................\n",
      "[CV] .................. C=1.1, gamma=1.5000000000000004, total=   0.1s\n",
      "[CV] C=1.1, gamma=1.6000000000000005 .................................\n",
      "[CV] .................. C=1.1, gamma=1.6000000000000005, total=   0.0s\n",
      "[CV] C=1.1, gamma=1.6000000000000005 .................................\n",
      "[CV] .................. C=1.1, gamma=1.6000000000000005, total=   0.1s\n",
      "[CV] C=1.1, gamma=1.6000000000000005 .................................\n"
     ]
    },
    {
     "name": "stdout",
     "output_type": "stream",
     "text": [
      "[CV] .................. C=1.1, gamma=1.6000000000000005, total=   0.1s\n",
      "[CV] C=1.1, gamma=1.7000000000000006 .................................\n",
      "[CV] .................. C=1.1, gamma=1.7000000000000006, total=   0.0s\n",
      "[CV] C=1.1, gamma=1.7000000000000006 .................................\n",
      "[CV] .................. C=1.1, gamma=1.7000000000000006, total=   0.1s\n",
      "[CV] C=1.1, gamma=1.7000000000000006 .................................\n",
      "[CV] .................. C=1.1, gamma=1.7000000000000006, total=   0.0s\n",
      "[CV] C=1.2000000000000002, gamma=0.8 .................................\n",
      "[CV] .................. C=1.2000000000000002, gamma=0.8, total=   0.0s\n",
      "[CV] C=1.2000000000000002, gamma=0.8 .................................\n",
      "[CV] .................. C=1.2000000000000002, gamma=0.8, total=   0.1s\n",
      "[CV] C=1.2000000000000002, gamma=0.8 .................................\n",
      "[CV] .................. C=1.2000000000000002, gamma=0.8, total=   0.1s\n",
      "[CV] C=1.2000000000000002, gamma=0.9 .................................\n",
      "[CV] .................. C=1.2000000000000002, gamma=0.9, total=   0.1s\n",
      "[CV] C=1.2000000000000002, gamma=0.9 .................................\n",
      "[CV] .................. C=1.2000000000000002, gamma=0.9, total=   0.1s\n",
      "[CV] C=1.2000000000000002, gamma=0.9 .................................\n",
      "[CV] .................. C=1.2000000000000002, gamma=0.9, total=   0.0s\n",
      "[CV] C=1.2000000000000002, gamma=1.0 .................................\n",
      "[CV] .................. C=1.2000000000000002, gamma=1.0, total=   0.1s\n",
      "[CV] C=1.2000000000000002, gamma=1.0 .................................\n",
      "[CV] .................. C=1.2000000000000002, gamma=1.0, total=   0.1s\n",
      "[CV] C=1.2000000000000002, gamma=1.0 .................................\n",
      "[CV] .................. C=1.2000000000000002, gamma=1.0, total=   0.1s\n",
      "[CV] C=1.2000000000000002, gamma=1.1 .................................\n",
      "[CV] .................. C=1.2000000000000002, gamma=1.1, total=   0.1s\n",
      "[CV] C=1.2000000000000002, gamma=1.1 .................................\n",
      "[CV] .................. C=1.2000000000000002, gamma=1.1, total=   0.1s\n",
      "[CV] C=1.2000000000000002, gamma=1.1 .................................\n",
      "[CV] .................. C=1.2000000000000002, gamma=1.1, total=   0.1s\n",
      "[CV] C=1.2000000000000002, gamma=1.2000000000000002 ..................\n",
      "[CV] ... C=1.2000000000000002, gamma=1.2000000000000002, total=   0.1s\n",
      "[CV] C=1.2000000000000002, gamma=1.2000000000000002 ..................\n",
      "[CV] ... C=1.2000000000000002, gamma=1.2000000000000002, total=   0.1s\n",
      "[CV] C=1.2000000000000002, gamma=1.2000000000000002 ..................\n",
      "[CV] ... C=1.2000000000000002, gamma=1.2000000000000002, total=   0.1s\n",
      "[CV] C=1.2000000000000002, gamma=1.3000000000000003 ..................\n",
      "[CV] ... C=1.2000000000000002, gamma=1.3000000000000003, total=   0.1s\n",
      "[CV] C=1.2000000000000002, gamma=1.3000000000000003 ..................\n",
      "[CV] ... C=1.2000000000000002, gamma=1.3000000000000003, total=   0.1s\n",
      "[CV] C=1.2000000000000002, gamma=1.3000000000000003 ..................\n",
      "[CV] ... C=1.2000000000000002, gamma=1.3000000000000003, total=   0.1s\n",
      "[CV] C=1.2000000000000002, gamma=1.4000000000000004 ..................\n",
      "[CV] ... C=1.2000000000000002, gamma=1.4000000000000004, total=   0.1s\n",
      "[CV] C=1.2000000000000002, gamma=1.4000000000000004 ..................\n",
      "[CV] ... C=1.2000000000000002, gamma=1.4000000000000004, total=   0.1s\n",
      "[CV] C=1.2000000000000002, gamma=1.4000000000000004 ..................\n",
      "[CV] ... C=1.2000000000000002, gamma=1.4000000000000004, total=   0.1s\n",
      "[CV] C=1.2000000000000002, gamma=1.5000000000000004 ..................\n",
      "[CV] ... C=1.2000000000000002, gamma=1.5000000000000004, total=   0.1s\n",
      "[CV] C=1.2000000000000002, gamma=1.5000000000000004 ..................\n",
      "[CV] ... C=1.2000000000000002, gamma=1.5000000000000004, total=   0.1s\n",
      "[CV] C=1.2000000000000002, gamma=1.5000000000000004 ..................\n",
      "[CV] ... C=1.2000000000000002, gamma=1.5000000000000004, total=   0.1s\n",
      "[CV] C=1.2000000000000002, gamma=1.6000000000000005 ..................\n",
      "[CV] ... C=1.2000000000000002, gamma=1.6000000000000005, total=   0.1s\n",
      "[CV] C=1.2000000000000002, gamma=1.6000000000000005 ..................\n",
      "[CV] ... C=1.2000000000000002, gamma=1.6000000000000005, total=   0.1s\n",
      "[CV] C=1.2000000000000002, gamma=1.6000000000000005 ..................\n",
      "[CV] ... C=1.2000000000000002, gamma=1.6000000000000005, total=   0.1s\n",
      "[CV] C=1.2000000000000002, gamma=1.7000000000000006 ..................\n",
      "[CV] ... C=1.2000000000000002, gamma=1.7000000000000006, total=   0.1s\n",
      "[CV] C=1.2000000000000002, gamma=1.7000000000000006 ..................\n",
      "[CV] ... C=1.2000000000000002, gamma=1.7000000000000006, total=   0.1s\n",
      "[CV] C=1.2000000000000002, gamma=1.7000000000000006 ..................\n",
      "[CV] ... C=1.2000000000000002, gamma=1.7000000000000006, total=   0.1s\n",
      "[CV] C=1.3000000000000003, gamma=0.8 .................................\n",
      "[CV] .................. C=1.3000000000000003, gamma=0.8, total=   0.1s\n",
      "[CV] C=1.3000000000000003, gamma=0.8 .................................\n",
      "[CV] .................. C=1.3000000000000003, gamma=0.8, total=   0.1s\n",
      "[CV] C=1.3000000000000003, gamma=0.8 .................................\n",
      "[CV] .................. C=1.3000000000000003, gamma=0.8, total=   0.1s\n",
      "[CV] C=1.3000000000000003, gamma=0.9 .................................\n",
      "[CV] .................. C=1.3000000000000003, gamma=0.9, total=   0.1s\n",
      "[CV] C=1.3000000000000003, gamma=0.9 .................................\n",
      "[CV] .................. C=1.3000000000000003, gamma=0.9, total=   0.1s\n",
      "[CV] C=1.3000000000000003, gamma=0.9 .................................\n",
      "[CV] .................. C=1.3000000000000003, gamma=0.9, total=   0.1s\n",
      "[CV] C=1.3000000000000003, gamma=1.0 .................................\n",
      "[CV] .................. C=1.3000000000000003, gamma=1.0, total=   0.0s\n",
      "[CV] C=1.3000000000000003, gamma=1.0 .................................\n",
      "[CV] .................. C=1.3000000000000003, gamma=1.0, total=   0.1s\n",
      "[CV] C=1.3000000000000003, gamma=1.0 .................................\n",
      "[CV] .................. C=1.3000000000000003, gamma=1.0, total=   0.1s\n",
      "[CV] C=1.3000000000000003, gamma=1.1 .................................\n",
      "[CV] .................. C=1.3000000000000003, gamma=1.1, total=   0.1s\n",
      "[CV] C=1.3000000000000003, gamma=1.1 .................................\n",
      "[CV] .................. C=1.3000000000000003, gamma=1.1, total=   0.1s\n",
      "[CV] C=1.3000000000000003, gamma=1.1 .................................\n",
      "[CV] .................. C=1.3000000000000003, gamma=1.1, total=   0.1s\n",
      "[CV] C=1.3000000000000003, gamma=1.2000000000000002 ..................\n",
      "[CV] ... C=1.3000000000000003, gamma=1.2000000000000002, total=   0.1s\n",
      "[CV] C=1.3000000000000003, gamma=1.2000000000000002 ..................\n",
      "[CV] ... C=1.3000000000000003, gamma=1.2000000000000002, total=   0.1s\n",
      "[CV] C=1.3000000000000003, gamma=1.2000000000000002 ..................\n",
      "[CV] ... C=1.3000000000000003, gamma=1.2000000000000002, total=   0.1s\n",
      "[CV] C=1.3000000000000003, gamma=1.3000000000000003 ..................\n",
      "[CV] ... C=1.3000000000000003, gamma=1.3000000000000003, total=   0.1s\n",
      "[CV] C=1.3000000000000003, gamma=1.3000000000000003 ..................\n",
      "[CV] ... C=1.3000000000000003, gamma=1.3000000000000003, total=   0.1s\n",
      "[CV] C=1.3000000000000003, gamma=1.3000000000000003 ..................\n",
      "[CV] ... C=1.3000000000000003, gamma=1.3000000000000003, total=   0.1s\n",
      "[CV] C=1.3000000000000003, gamma=1.4000000000000004 ..................\n",
      "[CV] ... C=1.3000000000000003, gamma=1.4000000000000004, total=   0.1s\n",
      "[CV] C=1.3000000000000003, gamma=1.4000000000000004 ..................\n",
      "[CV] ... C=1.3000000000000003, gamma=1.4000000000000004, total=   0.1s\n",
      "[CV] C=1.3000000000000003, gamma=1.4000000000000004 ..................\n",
      "[CV] ... C=1.3000000000000003, gamma=1.4000000000000004, total=   0.0s\n",
      "[CV] C=1.3000000000000003, gamma=1.5000000000000004 ..................\n",
      "[CV] ... C=1.3000000000000003, gamma=1.5000000000000004, total=   0.1s\n",
      "[CV] C=1.3000000000000003, gamma=1.5000000000000004 ..................\n",
      "[CV] ... C=1.3000000000000003, gamma=1.5000000000000004, total=   0.0s\n",
      "[CV] C=1.3000000000000003, gamma=1.5000000000000004 ..................\n",
      "[CV] ... C=1.3000000000000003, gamma=1.5000000000000004, total=   0.0s\n",
      "[CV] C=1.3000000000000003, gamma=1.6000000000000005 ..................\n",
      "[CV] ... C=1.3000000000000003, gamma=1.6000000000000005, total=   0.1s\n",
      "[CV] C=1.3000000000000003, gamma=1.6000000000000005 ..................\n",
      "[CV] ... C=1.3000000000000003, gamma=1.6000000000000005, total=   0.1s\n",
      "[CV] C=1.3000000000000003, gamma=1.6000000000000005 ..................\n"
     ]
    },
    {
     "name": "stdout",
     "output_type": "stream",
     "text": [
      "[CV] ... C=1.3000000000000003, gamma=1.6000000000000005, total=   0.1s\n",
      "[CV] C=1.3000000000000003, gamma=1.7000000000000006 ..................\n",
      "[CV] ... C=1.3000000000000003, gamma=1.7000000000000006, total=   0.1s\n",
      "[CV] C=1.3000000000000003, gamma=1.7000000000000006 ..................\n",
      "[CV] ... C=1.3000000000000003, gamma=1.7000000000000006, total=   0.1s\n",
      "[CV] C=1.3000000000000003, gamma=1.7000000000000006 ..................\n",
      "[CV] ... C=1.3000000000000003, gamma=1.7000000000000006, total=   0.0s\n",
      "[CV] C=1.4000000000000004, gamma=0.8 .................................\n",
      "[CV] .................. C=1.4000000000000004, gamma=0.8, total=   0.1s\n",
      "[CV] C=1.4000000000000004, gamma=0.8 .................................\n",
      "[CV] .................. C=1.4000000000000004, gamma=0.8, total=   0.0s\n",
      "[CV] C=1.4000000000000004, gamma=0.8 .................................\n",
      "[CV] .................. C=1.4000000000000004, gamma=0.8, total=   0.1s\n",
      "[CV] C=1.4000000000000004, gamma=0.9 .................................\n",
      "[CV] .................. C=1.4000000000000004, gamma=0.9, total=   0.0s\n",
      "[CV] C=1.4000000000000004, gamma=0.9 .................................\n",
      "[CV] .................. C=1.4000000000000004, gamma=0.9, total=   0.1s\n",
      "[CV] C=1.4000000000000004, gamma=0.9 .................................\n",
      "[CV] .................. C=1.4000000000000004, gamma=0.9, total=   0.1s\n",
      "[CV] C=1.4000000000000004, gamma=1.0 .................................\n",
      "[CV] .................. C=1.4000000000000004, gamma=1.0, total=   0.1s\n",
      "[CV] C=1.4000000000000004, gamma=1.0 .................................\n",
      "[CV] .................. C=1.4000000000000004, gamma=1.0, total=   0.1s\n",
      "[CV] C=1.4000000000000004, gamma=1.0 .................................\n",
      "[CV] .................. C=1.4000000000000004, gamma=1.0, total=   0.0s\n",
      "[CV] C=1.4000000000000004, gamma=1.1 .................................\n",
      "[CV] .................. C=1.4000000000000004, gamma=1.1, total=   0.0s\n",
      "[CV] C=1.4000000000000004, gamma=1.1 .................................\n",
      "[CV] .................. C=1.4000000000000004, gamma=1.1, total=   0.0s\n",
      "[CV] C=1.4000000000000004, gamma=1.1 .................................\n",
      "[CV] .................. C=1.4000000000000004, gamma=1.1, total=   0.0s\n",
      "[CV] C=1.4000000000000004, gamma=1.2000000000000002 ..................\n",
      "[CV] ... C=1.4000000000000004, gamma=1.2000000000000002, total=   0.0s\n",
      "[CV] C=1.4000000000000004, gamma=1.2000000000000002 ..................\n",
      "[CV] ... C=1.4000000000000004, gamma=1.2000000000000002, total=   0.0s\n",
      "[CV] C=1.4000000000000004, gamma=1.2000000000000002 ..................\n",
      "[CV] ... C=1.4000000000000004, gamma=1.2000000000000002, total=   0.1s\n",
      "[CV] C=1.4000000000000004, gamma=1.3000000000000003 ..................\n",
      "[CV] ... C=1.4000000000000004, gamma=1.3000000000000003, total=   0.1s\n",
      "[CV] C=1.4000000000000004, gamma=1.3000000000000003 ..................\n",
      "[CV] ... C=1.4000000000000004, gamma=1.3000000000000003, total=   0.1s\n",
      "[CV] C=1.4000000000000004, gamma=1.3000000000000003 ..................\n",
      "[CV] ... C=1.4000000000000004, gamma=1.3000000000000003, total=   0.1s\n",
      "[CV] C=1.4000000000000004, gamma=1.4000000000000004 ..................\n",
      "[CV] ... C=1.4000000000000004, gamma=1.4000000000000004, total=   0.1s\n",
      "[CV] C=1.4000000000000004, gamma=1.4000000000000004 ..................\n",
      "[CV] ... C=1.4000000000000004, gamma=1.4000000000000004, total=   0.0s\n",
      "[CV] C=1.4000000000000004, gamma=1.4000000000000004 ..................\n",
      "[CV] ... C=1.4000000000000004, gamma=1.4000000000000004, total=   0.1s\n",
      "[CV] C=1.4000000000000004, gamma=1.5000000000000004 ..................\n",
      "[CV] ... C=1.4000000000000004, gamma=1.5000000000000004, total=   0.1s\n",
      "[CV] C=1.4000000000000004, gamma=1.5000000000000004 ..................\n",
      "[CV] ... C=1.4000000000000004, gamma=1.5000000000000004, total=   0.1s\n",
      "[CV] C=1.4000000000000004, gamma=1.5000000000000004 ..................\n",
      "[CV] ... C=1.4000000000000004, gamma=1.5000000000000004, total=   0.0s\n",
      "[CV] C=1.4000000000000004, gamma=1.6000000000000005 ..................\n",
      "[CV] ... C=1.4000000000000004, gamma=1.6000000000000005, total=   0.1s\n",
      "[CV] C=1.4000000000000004, gamma=1.6000000000000005 ..................\n",
      "[CV] ... C=1.4000000000000004, gamma=1.6000000000000005, total=   0.0s\n",
      "[CV] C=1.4000000000000004, gamma=1.6000000000000005 ..................\n",
      "[CV] ... C=1.4000000000000004, gamma=1.6000000000000005, total=   0.1s\n",
      "[CV] C=1.4000000000000004, gamma=1.7000000000000006 ..................\n",
      "[CV] ... C=1.4000000000000004, gamma=1.7000000000000006, total=   0.1s\n",
      "[CV] C=1.4000000000000004, gamma=1.7000000000000006 ..................\n",
      "[CV] ... C=1.4000000000000004, gamma=1.7000000000000006, total=   0.1s\n",
      "[CV] C=1.4000000000000004, gamma=1.7000000000000006 ..................\n",
      "[CV] ... C=1.4000000000000004, gamma=1.7000000000000006, total=   0.1s\n",
      "[CV] C=1.5000000000000004, gamma=0.8 .................................\n",
      "[CV] .................. C=1.5000000000000004, gamma=0.8, total=   0.1s\n",
      "[CV] C=1.5000000000000004, gamma=0.8 .................................\n",
      "[CV] .................. C=1.5000000000000004, gamma=0.8, total=   0.1s\n",
      "[CV] C=1.5000000000000004, gamma=0.8 .................................\n",
      "[CV] .................. C=1.5000000000000004, gamma=0.8, total=   0.1s\n",
      "[CV] C=1.5000000000000004, gamma=0.9 .................................\n",
      "[CV] .................. C=1.5000000000000004, gamma=0.9, total=   0.1s\n",
      "[CV] C=1.5000000000000004, gamma=0.9 .................................\n",
      "[CV] .................. C=1.5000000000000004, gamma=0.9, total=   0.0s\n",
      "[CV] C=1.5000000000000004, gamma=0.9 .................................\n",
      "[CV] .................. C=1.5000000000000004, gamma=0.9, total=   0.0s\n",
      "[CV] C=1.5000000000000004, gamma=1.0 .................................\n",
      "[CV] .................. C=1.5000000000000004, gamma=1.0, total=   0.1s\n",
      "[CV] C=1.5000000000000004, gamma=1.0 .................................\n",
      "[CV] .................. C=1.5000000000000004, gamma=1.0, total=   0.1s\n",
      "[CV] C=1.5000000000000004, gamma=1.0 .................................\n",
      "[CV] .................. C=1.5000000000000004, gamma=1.0, total=   0.1s\n",
      "[CV] C=1.5000000000000004, gamma=1.1 .................................\n",
      "[CV] .................. C=1.5000000000000004, gamma=1.1, total=   0.0s\n",
      "[CV] C=1.5000000000000004, gamma=1.1 .................................\n",
      "[CV] .................. C=1.5000000000000004, gamma=1.1, total=   0.1s\n",
      "[CV] C=1.5000000000000004, gamma=1.1 .................................\n",
      "[CV] .................. C=1.5000000000000004, gamma=1.1, total=   0.0s\n",
      "[CV] C=1.5000000000000004, gamma=1.2000000000000002 ..................\n",
      "[CV] ... C=1.5000000000000004, gamma=1.2000000000000002, total=   0.1s\n",
      "[CV] C=1.5000000000000004, gamma=1.2000000000000002 ..................\n",
      "[CV] ... C=1.5000000000000004, gamma=1.2000000000000002, total=   0.1s\n",
      "[CV] C=1.5000000000000004, gamma=1.2000000000000002 ..................\n",
      "[CV] ... C=1.5000000000000004, gamma=1.2000000000000002, total=   0.0s\n",
      "[CV] C=1.5000000000000004, gamma=1.3000000000000003 ..................\n",
      "[CV] ... C=1.5000000000000004, gamma=1.3000000000000003, total=   0.1s\n",
      "[CV] C=1.5000000000000004, gamma=1.3000000000000003 ..................\n",
      "[CV] ... C=1.5000000000000004, gamma=1.3000000000000003, total=   0.1s\n",
      "[CV] C=1.5000000000000004, gamma=1.3000000000000003 ..................\n",
      "[CV] ... C=1.5000000000000004, gamma=1.3000000000000003, total=   0.1s\n",
      "[CV] C=1.5000000000000004, gamma=1.4000000000000004 ..................\n",
      "[CV] ... C=1.5000000000000004, gamma=1.4000000000000004, total=   0.1s\n",
      "[CV] C=1.5000000000000004, gamma=1.4000000000000004 ..................\n",
      "[CV] ... C=1.5000000000000004, gamma=1.4000000000000004, total=   0.1s\n",
      "[CV] C=1.5000000000000004, gamma=1.4000000000000004 ..................\n",
      "[CV] ... C=1.5000000000000004, gamma=1.4000000000000004, total=   0.1s\n",
      "[CV] C=1.5000000000000004, gamma=1.5000000000000004 ..................\n",
      "[CV] ... C=1.5000000000000004, gamma=1.5000000000000004, total=   0.1s\n",
      "[CV] C=1.5000000000000004, gamma=1.5000000000000004 ..................\n",
      "[CV] ... C=1.5000000000000004, gamma=1.5000000000000004, total=   0.1s\n",
      "[CV] C=1.5000000000000004, gamma=1.5000000000000004 ..................\n",
      "[CV] ... C=1.5000000000000004, gamma=1.5000000000000004, total=   0.0s\n",
      "[CV] C=1.5000000000000004, gamma=1.6000000000000005 ..................\n",
      "[CV] ... C=1.5000000000000004, gamma=1.6000000000000005, total=   0.1s\n",
      "[CV] C=1.5000000000000004, gamma=1.6000000000000005 ..................\n"
     ]
    },
    {
     "name": "stdout",
     "output_type": "stream",
     "text": [
      "[CV] ... C=1.5000000000000004, gamma=1.6000000000000005, total=   0.1s\n",
      "[CV] C=1.5000000000000004, gamma=1.6000000000000005 ..................\n",
      "[CV] ... C=1.5000000000000004, gamma=1.6000000000000005, total=   0.0s\n",
      "[CV] C=1.5000000000000004, gamma=1.7000000000000006 ..................\n",
      "[CV] ... C=1.5000000000000004, gamma=1.7000000000000006, total=   0.1s\n",
      "[CV] C=1.5000000000000004, gamma=1.7000000000000006 ..................\n",
      "[CV] ... C=1.5000000000000004, gamma=1.7000000000000006, total=   0.1s\n",
      "[CV] C=1.5000000000000004, gamma=1.7000000000000006 ..................\n",
      "[CV] ... C=1.5000000000000004, gamma=1.7000000000000006, total=   0.1s\n",
      "[CV] C=1.6000000000000005, gamma=0.8 .................................\n",
      "[CV] .................. C=1.6000000000000005, gamma=0.8, total=   0.1s\n",
      "[CV] C=1.6000000000000005, gamma=0.8 .................................\n",
      "[CV] .................. C=1.6000000000000005, gamma=0.8, total=   0.0s\n",
      "[CV] C=1.6000000000000005, gamma=0.8 .................................\n",
      "[CV] .................. C=1.6000000000000005, gamma=0.8, total=   0.1s\n",
      "[CV] C=1.6000000000000005, gamma=0.9 .................................\n",
      "[CV] .................. C=1.6000000000000005, gamma=0.9, total=   0.1s\n",
      "[CV] C=1.6000000000000005, gamma=0.9 .................................\n",
      "[CV] .................. C=1.6000000000000005, gamma=0.9, total=   0.1s\n",
      "[CV] C=1.6000000000000005, gamma=0.9 .................................\n",
      "[CV] .................. C=1.6000000000000005, gamma=0.9, total=   0.0s\n",
      "[CV] C=1.6000000000000005, gamma=1.0 .................................\n",
      "[CV] .................. C=1.6000000000000005, gamma=1.0, total=   0.1s\n",
      "[CV] C=1.6000000000000005, gamma=1.0 .................................\n",
      "[CV] .................. C=1.6000000000000005, gamma=1.0, total=   0.1s\n",
      "[CV] C=1.6000000000000005, gamma=1.0 .................................\n",
      "[CV] .................. C=1.6000000000000005, gamma=1.0, total=   0.0s\n",
      "[CV] C=1.6000000000000005, gamma=1.1 .................................\n",
      "[CV] .................. C=1.6000000000000005, gamma=1.1, total=   0.1s\n",
      "[CV] C=1.6000000000000005, gamma=1.1 .................................\n",
      "[CV] .................. C=1.6000000000000005, gamma=1.1, total=   0.1s\n",
      "[CV] C=1.6000000000000005, gamma=1.1 .................................\n",
      "[CV] .................. C=1.6000000000000005, gamma=1.1, total=   0.1s\n",
      "[CV] C=1.6000000000000005, gamma=1.2000000000000002 ..................\n",
      "[CV] ... C=1.6000000000000005, gamma=1.2000000000000002, total=   0.1s\n",
      "[CV] C=1.6000000000000005, gamma=1.2000000000000002 ..................\n",
      "[CV] ... C=1.6000000000000005, gamma=1.2000000000000002, total=   0.1s\n",
      "[CV] C=1.6000000000000005, gamma=1.2000000000000002 ..................\n",
      "[CV] ... C=1.6000000000000005, gamma=1.2000000000000002, total=   0.1s\n",
      "[CV] C=1.6000000000000005, gamma=1.3000000000000003 ..................\n",
      "[CV] ... C=1.6000000000000005, gamma=1.3000000000000003, total=   0.1s\n",
      "[CV] C=1.6000000000000005, gamma=1.3000000000000003 ..................\n",
      "[CV] ... C=1.6000000000000005, gamma=1.3000000000000003, total=   0.1s\n",
      "[CV] C=1.6000000000000005, gamma=1.3000000000000003 ..................\n",
      "[CV] ... C=1.6000000000000005, gamma=1.3000000000000003, total=   0.1s\n",
      "[CV] C=1.6000000000000005, gamma=1.4000000000000004 ..................\n",
      "[CV] ... C=1.6000000000000005, gamma=1.4000000000000004, total=   0.1s\n",
      "[CV] C=1.6000000000000005, gamma=1.4000000000000004 ..................\n",
      "[CV] ... C=1.6000000000000005, gamma=1.4000000000000004, total=   0.1s\n",
      "[CV] C=1.6000000000000005, gamma=1.4000000000000004 ..................\n",
      "[CV] ... C=1.6000000000000005, gamma=1.4000000000000004, total=   0.1s\n",
      "[CV] C=1.6000000000000005, gamma=1.5000000000000004 ..................\n",
      "[CV] ... C=1.6000000000000005, gamma=1.5000000000000004, total=   0.1s\n",
      "[CV] C=1.6000000000000005, gamma=1.5000000000000004 ..................\n",
      "[CV] ... C=1.6000000000000005, gamma=1.5000000000000004, total=   0.1s\n",
      "[CV] C=1.6000000000000005, gamma=1.5000000000000004 ..................\n",
      "[CV] ... C=1.6000000000000005, gamma=1.5000000000000004, total=   0.1s\n",
      "[CV] C=1.6000000000000005, gamma=1.6000000000000005 ..................\n",
      "[CV] ... C=1.6000000000000005, gamma=1.6000000000000005, total=   0.0s\n",
      "[CV] C=1.6000000000000005, gamma=1.6000000000000005 ..................\n",
      "[CV] ... C=1.6000000000000005, gamma=1.6000000000000005, total=   0.1s\n",
      "[CV] C=1.6000000000000005, gamma=1.6000000000000005 ..................\n",
      "[CV] ... C=1.6000000000000005, gamma=1.6000000000000005, total=   0.1s\n",
      "[CV] C=1.6000000000000005, gamma=1.7000000000000006 ..................\n",
      "[CV] ... C=1.6000000000000005, gamma=1.7000000000000006, total=   0.1s\n",
      "[CV] C=1.6000000000000005, gamma=1.7000000000000006 ..................\n",
      "[CV] ... C=1.6000000000000005, gamma=1.7000000000000006, total=   0.1s\n",
      "[CV] C=1.6000000000000005, gamma=1.7000000000000006 ..................\n",
      "[CV] ... C=1.6000000000000005, gamma=1.7000000000000006, total=   0.1s\n",
      "[CV] C=1.7000000000000006, gamma=0.8 .................................\n",
      "[CV] .................. C=1.7000000000000006, gamma=0.8, total=   0.1s\n",
      "[CV] C=1.7000000000000006, gamma=0.8 .................................\n",
      "[CV] .................. C=1.7000000000000006, gamma=0.8, total=   0.1s\n",
      "[CV] C=1.7000000000000006, gamma=0.8 .................................\n",
      "[CV] .................. C=1.7000000000000006, gamma=0.8, total=   0.1s\n",
      "[CV] C=1.7000000000000006, gamma=0.9 .................................\n",
      "[CV] .................. C=1.7000000000000006, gamma=0.9, total=   0.1s\n",
      "[CV] C=1.7000000000000006, gamma=0.9 .................................\n",
      "[CV] .................. C=1.7000000000000006, gamma=0.9, total=   0.1s\n",
      "[CV] C=1.7000000000000006, gamma=0.9 .................................\n",
      "[CV] .................. C=1.7000000000000006, gamma=0.9, total=   0.1s\n",
      "[CV] C=1.7000000000000006, gamma=1.0 .................................\n",
      "[CV] .................. C=1.7000000000000006, gamma=1.0, total=   0.1s\n",
      "[CV] C=1.7000000000000006, gamma=1.0 .................................\n",
      "[CV] .................. C=1.7000000000000006, gamma=1.0, total=   0.1s\n",
      "[CV] C=1.7000000000000006, gamma=1.0 .................................\n",
      "[CV] .................. C=1.7000000000000006, gamma=1.0, total=   0.1s\n",
      "[CV] C=1.7000000000000006, gamma=1.1 .................................\n",
      "[CV] .................. C=1.7000000000000006, gamma=1.1, total=   0.1s\n",
      "[CV] C=1.7000000000000006, gamma=1.1 .................................\n",
      "[CV] .................. C=1.7000000000000006, gamma=1.1, total=   0.1s\n",
      "[CV] C=1.7000000000000006, gamma=1.1 .................................\n",
      "[CV] .................. C=1.7000000000000006, gamma=1.1, total=   0.1s\n",
      "[CV] C=1.7000000000000006, gamma=1.2000000000000002 ..................\n",
      "[CV] ... C=1.7000000000000006, gamma=1.2000000000000002, total=   0.0s\n",
      "[CV] C=1.7000000000000006, gamma=1.2000000000000002 ..................\n",
      "[CV] ... C=1.7000000000000006, gamma=1.2000000000000002, total=   0.1s\n",
      "[CV] C=1.7000000000000006, gamma=1.2000000000000002 ..................\n",
      "[CV] ... C=1.7000000000000006, gamma=1.2000000000000002, total=   0.2s\n",
      "[CV] C=1.7000000000000006, gamma=1.3000000000000003 ..................\n",
      "[CV] ... C=1.7000000000000006, gamma=1.3000000000000003, total=   0.1s\n",
      "[CV] C=1.7000000000000006, gamma=1.3000000000000003 ..................\n",
      "[CV] ... C=1.7000000000000006, gamma=1.3000000000000003, total=   0.2s\n",
      "[CV] C=1.7000000000000006, gamma=1.3000000000000003 ..................\n",
      "[CV] ... C=1.7000000000000006, gamma=1.3000000000000003, total=   0.1s\n",
      "[CV] C=1.7000000000000006, gamma=1.4000000000000004 ..................\n",
      "[CV] ... C=1.7000000000000006, gamma=1.4000000000000004, total=   0.1s\n",
      "[CV] C=1.7000000000000006, gamma=1.4000000000000004 ..................\n",
      "[CV] ... C=1.7000000000000006, gamma=1.4000000000000004, total=   0.1s\n",
      "[CV] C=1.7000000000000006, gamma=1.4000000000000004 ..................\n",
      "[CV] ... C=1.7000000000000006, gamma=1.4000000000000004, total=   0.1s\n",
      "[CV] C=1.7000000000000006, gamma=1.5000000000000004 ..................\n",
      "[CV] ... C=1.7000000000000006, gamma=1.5000000000000004, total=   0.1s\n",
      "[CV] C=1.7000000000000006, gamma=1.5000000000000004 ..................\n",
      "[CV] ... C=1.7000000000000006, gamma=1.5000000000000004, total=   0.1s\n",
      "[CV] C=1.7000000000000006, gamma=1.5000000000000004 ..................\n",
      "[CV] ... C=1.7000000000000006, gamma=1.5000000000000004, total=   0.0s\n",
      "[CV] C=1.7000000000000006, gamma=1.6000000000000005 ..................\n",
      "[CV] ... C=1.7000000000000006, gamma=1.6000000000000005, total=   0.1s\n",
      "[CV] C=1.7000000000000006, gamma=1.6000000000000005 ..................\n"
     ]
    },
    {
     "name": "stdout",
     "output_type": "stream",
     "text": [
      "[CV] ... C=1.7000000000000006, gamma=1.6000000000000005, total=   0.1s\n",
      "[CV] C=1.7000000000000006, gamma=1.6000000000000005 ..................\n",
      "[CV] ... C=1.7000000000000006, gamma=1.6000000000000005, total=   0.1s\n",
      "[CV] C=1.7000000000000006, gamma=1.7000000000000006 ..................\n",
      "[CV] ... C=1.7000000000000006, gamma=1.7000000000000006, total=   0.1s\n",
      "[CV] C=1.7000000000000006, gamma=1.7000000000000006 ..................\n",
      "[CV] ... C=1.7000000000000006, gamma=1.7000000000000006, total=   0.1s\n",
      "[CV] C=1.7000000000000006, gamma=1.7000000000000006 ..................\n",
      "[CV] ... C=1.7000000000000006, gamma=1.7000000000000006, total=   0.1s\n"
     ]
    },
    {
     "name": "stderr",
     "output_type": "stream",
     "text": [
      "[Parallel(n_jobs=1)]: Done 300 out of 300 | elapsed:   18.3s finished\n"
     ]
    },
    {
     "data": {
      "text/plain": [
       "GridSearchCV(cv='warn', error_score='raise-deprecating',\n",
       "             estimator=SVC(C=1.0, cache_size=200, class_weight=None, coef0=0.0,\n",
       "                           decision_function_shape='ovr', degree=3,\n",
       "                           gamma='auto_deprecated', kernel='rbf', max_iter=-1,\n",
       "                           probability=False, random_state=None, shrinking=True,\n",
       "                           tol=0.001, verbose=False),\n",
       "             iid='warn', n_jobs=None,\n",
       "             param_grid={'C': [0.8, 0.9, 1.0, 1.1, 1.2000000000000002,\n",
       "                               1.3000000000000003, 1.4000000000000004,\n",
       "                               1.5000000000000004, 1.6000000000000005,\n",
       "                               1.7000000000000006],\n",
       "                         'gamma': [0.8, 0.9, 1.0, 1.1, 1.2000000000000002,\n",
       "                                   1.3000000000000003, 1.4000000000000004,\n",
       "                                   1.5000000000000004, 1.6000000000000005,\n",
       "                                   1.7000000000000006]},\n",
       "             pre_dispatch='2*n_jobs', refit=True, return_train_score=False,\n",
       "             scoring=None, verbose=2)"
      ]
     },
     "execution_count": 162,
     "metadata": {},
     "output_type": "execute_result"
    }
   ],
   "source": [
    "grid.fit(x_train, y_train)"
   ]
  },
  {
   "cell_type": "code",
   "execution_count": 164,
   "metadata": {},
   "outputs": [
    {
     "data": {
      "text/plain": [
       "SVC(C=1.1, cache_size=200, class_weight=None, coef0=0.0,\n",
       "    decision_function_shape='ovr', degree=3, gamma=1.1, kernel='rbf',\n",
       "    max_iter=-1, probability=False, random_state=None, shrinking=True,\n",
       "    tol=0.001, verbose=False)"
      ]
     },
     "execution_count": 164,
     "metadata": {},
     "output_type": "execute_result"
    }
   ],
   "source": [
    "#Choosing the best estimator\n",
    "\n",
    "grid.best_estimator_"
   ]
  },
  {
   "cell_type": "code",
   "execution_count": 163,
   "metadata": {},
   "outputs": [
    {
     "data": {
      "text/plain": [
       "{'C': 1.1, 'gamma': 1.1}"
      ]
     },
     "execution_count": 163,
     "metadata": {},
     "output_type": "execute_result"
    }
   ],
   "source": [
    "#Best parameters\n",
    "grid.best_params_"
   ]
  },
  {
   "cell_type": "code",
   "execution_count": 165,
   "metadata": {},
   "outputs": [],
   "source": [
    "grid_predict = grid.predict(x_test)"
   ]
  },
  {
   "cell_type": "code",
   "execution_count": 166,
   "metadata": {},
   "outputs": [
    {
     "name": "stdout",
     "output_type": "stream",
     "text": [
      "[[447   7]\n",
      " [ 50  24]]\n",
      "\n",
      "\n",
      "              precision    recall  f1-score   support\n",
      "\n",
      "         bad       0.90      0.98      0.94       454\n",
      "        good       0.77      0.32      0.46        74\n",
      "\n",
      "    accuracy                           0.89       528\n",
      "   macro avg       0.84      0.65      0.70       528\n",
      "weighted avg       0.88      0.89      0.87       528\n",
      "\n"
     ]
    }
   ],
   "source": [
    "print(confusion_matrix(y_test, grid_predict))\n",
    "print('\\n')\n",
    "print(classification_report(y_test, grid_predict))"
   ]
  },
  {
   "cell_type": "markdown",
   "metadata": {},
   "source": [
    "SVM Classifier also does great with accuracy of 89%."
   ]
  },
  {
   "cell_type": "markdown",
   "metadata": {},
   "source": [
    "author: @TheAre\n",
    "\n",
    "Date created: Mon 11th May 2020 12:30am"
   ]
  },
  {
   "cell_type": "code",
   "execution_count": null,
   "metadata": {},
   "outputs": [],
   "source": []
  }
 ],
 "metadata": {
  "kernelspec": {
   "display_name": "Python 3",
   "language": "python",
   "name": "python3"
  },
  "language_info": {
   "codemirror_mode": {
    "name": "ipython",
    "version": 3
   },
   "file_extension": ".py",
   "mimetype": "text/x-python",
   "name": "python",
   "nbconvert_exporter": "python",
   "pygments_lexer": "ipython3",
   "version": "3.7.4"
  }
 },
 "nbformat": 4,
 "nbformat_minor": 2
}
